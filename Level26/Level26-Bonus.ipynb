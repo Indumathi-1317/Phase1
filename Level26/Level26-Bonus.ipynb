{
 "cells": [
  {
   "cell_type": "code",
   "execution_count": 1,
   "id": "d2be0d24-f0b2-4d4a-823c-b93295ed5ab4",
   "metadata": {},
   "outputs": [],
   "source": [
    "import tensorflow as tf\n",
    "import tensorflow_datasets as tfds\n",
    "import time"
   ]
  },
  {
   "cell_type": "code",
   "execution_count": 2,
   "id": "6f77c017-e1ab-4f21-967f-5024362b8c36",
   "metadata": {},
   "outputs": [],
   "source": [
    "(train_data, test_data), ds_info = tfds.load('imdb_reviews', split=['train', 'test'], as_supervised=True, with_info=True)"
   ]
  },
  {
   "cell_type": "code",
   "execution_count": 5,
   "id": "a3097420-a0ce-4603-a8df-b85c9ee94134",
   "metadata": {},
   "outputs": [],
   "source": [
    "def preprocess(text, label):\n",
    "    text = tf.strings.substr(text, 0, 300)\n",
    "    text = tf.strings.regex_replace(text, rb\"<br\\s*/?>\", b\" \")\n",
    "    return text, label"
   ]
  },
  {
   "cell_type": "code",
   "execution_count": 7,
   "id": "698a0881-ca41-49e9-b5d9-dec422cc547f",
   "metadata": {},
   "outputs": [],
   "source": [
    "encoder = tf.keras.layers.TextVectorization(max_tokens=10000)\n",
    "encoder.adapt(train_data.map(lambda text, label: text))"
   ]
  },
  {
   "cell_type": "code",
   "execution_count": 23,
   "id": "5ca63f87-db55-4b3c-a417-35be06f60406",
   "metadata": {},
   "outputs": [],
   "source": [
    "def encode_map(text, label):\n",
    "    return encoder(text), label\n",
    "train_ds_unopt = train_data.map(preprocess).map(encode_map).padded_batch(32, padded_shapes=([300], []))\n",
    "train_ds_opt = train_data.map(preprocess).map(encode_map).cache().padded_batch(32, padded_shapes=([300], [])).prefetch(tf.data.AUTOTUNE)"
   ]
  },
  {
   "cell_type": "code",
   "execution_count": 25,
   "id": "14594b8b-db43-491d-ad53-9975af586134",
   "metadata": {},
   "outputs": [],
   "source": [
    "model = tf.keras.Sequential([\n",
    "    tf.keras.layers.Embedding(10000, 16),\n",
    "    tf.keras.layers.GlobalAveragePooling1D(),\n",
    "    tf.keras.layers.Dense(16, activation='relu'),\n",
    "    tf.keras.layers.Dense(1)\n",
    "])\n",
    "model.compile(optimizer='adam', loss=tf.keras.losses.BinaryCrossentropy(from_logits=True), metrics=['accuracy'])"
   ]
  },
  {
   "cell_type": "code",
   "execution_count": 27,
   "id": "b76b2fe7-b4b8-4d03-830b-3170e3bdc67a",
   "metadata": {},
   "outputs": [
    {
     "name": "stdout",
     "output_type": "stream",
     "text": [
      "\u001b[1m782/782\u001b[0m \u001b[32m━━━━━━━━━━━━━━━━━━━━\u001b[0m\u001b[37m\u001b[0m \u001b[1m21s\u001b[0m 25ms/step - accuracy: 0.4994 - loss: 0.6934\n"
     ]
    }
   ],
   "source": [
    "start = time.time()\n",
    "model.fit(train_ds_unopt, epochs=1)\n",
    "unopt_time = time.time() - start"
   ]
  },
  {
   "cell_type": "code",
   "execution_count": 29,
   "id": "c9e6123e-8e83-410f-a25f-18f90e13365a",
   "metadata": {},
   "outputs": [
    {
     "name": "stdout",
     "output_type": "stream",
     "text": [
      "\u001b[1m782/782\u001b[0m \u001b[32m━━━━━━━━━━━━━━━━━━━━\u001b[0m\u001b[37m\u001b[0m \u001b[1m20s\u001b[0m 26ms/step - accuracy: 0.5040 - loss: 0.6824\n"
     ]
    }
   ],
   "source": [
    "start = time.time()\n",
    "model.fit(train_ds_opt, epochs=1)\n",
    "opt_time = time.time() - start"
   ]
  },
  {
   "cell_type": "code",
   "execution_count": 31,
   "id": "f841ca4d-f958-42ec-9aa8-db45d65deca8",
   "metadata": {},
   "outputs": [
    {
     "name": "stdout",
     "output_type": "stream",
     "text": [
      "Unoptimized Time: 21.32s\n",
      "Optimized Time: 20.22s\n"
     ]
    }
   ],
   "source": [
    "print(f\"Unoptimized Time: {unopt_time:.2f}s\")\n",
    "print(f\"Optimized Time: {opt_time:.2f}s\")"
   ]
  },
  {
   "cell_type": "code",
   "execution_count": null,
   "id": "3bc4791f-878f-492c-b62b-bad669ffaf22",
   "metadata": {},
   "outputs": [],
   "source": []
  }
 ],
 "metadata": {
  "kernelspec": {
   "display_name": "Python [conda env:base] *",
   "language": "python",
   "name": "conda-base-py"
  },
  "language_info": {
   "codemirror_mode": {
    "name": "ipython",
    "version": 3
   },
   "file_extension": ".py",
   "mimetype": "text/x-python",
   "name": "python",
   "nbconvert_exporter": "python",
   "pygments_lexer": "ipython3",
   "version": "3.12.7"
  }
 },
 "nbformat": 4,
 "nbformat_minor": 5
}
