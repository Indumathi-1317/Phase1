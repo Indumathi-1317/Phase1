{
 "cells": [
  {
   "cell_type": "code",
   "execution_count": 1,
   "id": "96ddbdd3-9725-4623-aef4-42e33171e225",
   "metadata": {},
   "outputs": [
    {
     "name": "stdout",
     "output_type": "stream",
     "text": [
      "Mean:5.5\n",
      "Max:10\n",
      "Min:1\n"
     ]
    }
   ],
   "source": [
    "import numpy as np\n",
    "a=np.arange(1,11)\n",
    "mean_value=np.mean(a)\n",
    "print(f\"Mean:{mean_value}\")\n",
    "max_value=np.max(a)\n",
    "print(f\"Max:{max_value}\")\n",
    "min_value=np.min(a)\n",
    "print(f\"Min:{min_value}\")\n"
   ]
  },
  {
   "cell_type": "code",
   "execution_count": null,
   "id": "6b6de86c-33ee-4f64-9494-82576e68c4db",
   "metadata": {},
   "outputs": [],
   "source": []
  }
 ],
 "metadata": {
  "kernelspec": {
   "display_name": "Python [conda env:base] *",
   "language": "python",
   "name": "conda-base-py"
  },
  "language_info": {
   "codemirror_mode": {
    "name": "ipython",
    "version": 3
   },
   "file_extension": ".py",
   "mimetype": "text/x-python",
   "name": "python",
   "nbconvert_exporter": "python",
   "pygments_lexer": "ipython3",
   "version": "3.12.7"
  }
 },
 "nbformat": 4,
 "nbformat_minor": 5
}
