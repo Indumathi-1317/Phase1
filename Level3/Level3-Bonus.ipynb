{
 "cells": [
  {
   "cell_type": "code",
   "execution_count": 1,
   "id": "1e14a873-57a2-4876-9fac-1283cd5b9a3d",
   "metadata": {},
   "outputs": [
    {
     "name": "stdout",
     "output_type": "stream",
     "text": [
      "[[9, 2], [3, 4]] [[9, 2], [3, 4]] [[8, 2], [3, 4]]\n"
     ]
    }
   ],
   "source": [
    "import copy\n",
    "original_list = [[8, 2], [3, 4]]\n",
    "shallow_copy = copy.copy(original_list)\n",
    "deep_copy = copy.deepcopy(original_list)\n",
    "shallow_copy[0][0] = 9\n",
    "deep_copy[0][0] = 8\n",
    "print(original_list, shallow_copy, deep_copy)"
   ]
  },
  {
   "cell_type": "code",
   "execution_count": null,
   "id": "0b5b9f67-1ed2-49d0-9968-594f7b927b2b",
   "metadata": {},
   "outputs": [],
   "source": []
  }
 ],
 "metadata": {
  "kernelspec": {
   "display_name": "Python [conda env:base] *",
   "language": "python",
   "name": "conda-base-py"
  },
  "language_info": {
   "codemirror_mode": {
    "name": "ipython",
    "version": 3
   },
   "file_extension": ".py",
   "mimetype": "text/x-python",
   "name": "python",
   "nbconvert_exporter": "python",
   "pygments_lexer": "ipython3",
   "version": "3.12.7"
  }
 },
 "nbformat": 4,
 "nbformat_minor": 5
}
