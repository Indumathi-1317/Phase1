{
 "cells": [
  {
   "cell_type": "code",
   "execution_count": 1,
   "id": "1e81aeb0-93f4-4c8e-8467-25b51eb3a840",
   "metadata": {},
   "outputs": [
    {
     "name": "stdin",
     "output_type": "stream",
     "text": [
      " x\n",
      " 1\n",
      " y\n",
      " 2\n",
      " y\n",
      " 3\n"
     ]
    },
    {
     "name": "stdout",
     "output_type": "stream",
     "text": [
      "{'x': 1, 'y': 3}\n"
     ]
    }
   ],
   "source": [
    "a={}\n",
    "for i in range(3):\n",
    "    key=input()\n",
    "    value=int(input())\n",
    "    a[key]=value\n",
    "print(a)"
   ]
  },
  {
   "cell_type": "code",
   "execution_count": null,
   "id": "50705352-69d7-442b-9b94-895c79f85b9f",
   "metadata": {},
   "outputs": [],
   "source": []
  }
 ],
 "metadata": {
  "kernelspec": {
   "display_name": "Python [conda env:base] *",
   "language": "python",
   "name": "conda-base-py"
  },
  "language_info": {
   "codemirror_mode": {
    "name": "ipython",
    "version": 3
   },
   "file_extension": ".py",
   "mimetype": "text/x-python",
   "name": "python",
   "nbconvert_exporter": "python",
   "pygments_lexer": "ipython3",
   "version": "3.12.7"
  }
 },
 "nbformat": 4,
 "nbformat_minor": 5
}
