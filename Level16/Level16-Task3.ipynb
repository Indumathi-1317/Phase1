{
 "cells": [
  {
   "cell_type": "code",
   "execution_count": 1,
   "id": "c389b6e4-dc4d-426a-9af7-8eafa7b5bfd2",
   "metadata": {},
   "outputs": [],
   "source": [
    "import pandas as pd\n",
    "from sklearn.model_selection import cross_val_score\n",
    "from sklearn.linear_model import LinearRegression\n",
    "from sklearn.ensemble import RandomForestRegressor\n",
    "from sklearn.preprocessing import StandardScaler\n",
    "from sklearn.model_selection import train_test_split"
   ]
  },
  {
   "cell_type": "code",
   "execution_count": 3,
   "id": "bad99fca-f792-4026-a3ad-2427c2f9b863",
   "metadata": {},
   "outputs": [
    {
     "name": "stdout",
     "output_type": "stream",
     "text": [
      "Index(['id', 'Date', 'number of bedrooms', 'number of bathrooms',\n",
      "       'living area', 'lot area', 'number of floors', 'waterfront present',\n",
      "       'number of views', 'condition of the house', 'grade of the house',\n",
      "       'Area of the house(excluding basement)', 'Area of the basement',\n",
      "       'Built Year', 'Renovation Year', 'Postal Code', 'Lattitude',\n",
      "       'Longitude', 'living_area_renov', 'lot_area_renov',\n",
      "       'Number of schools nearby', 'Distance from the airport', 'Price'],\n",
      "      dtype='object')\n"
     ]
    }
   ],
   "source": [
    "df = pd.read_csv(\"D:/house_data.csv\")\n",
    "print(df.columns)"
   ]
  },
  {
   "cell_type": "code",
   "execution_count": 5,
   "id": "afeff194-285a-4c6c-9d49-8cfb79bbc164",
   "metadata": {},
   "outputs": [],
   "source": [
    "df = df.dropna()\n",
    "X = df.drop('Price',axis=1)\n",
    "y = df['Price']"
   ]
  },
  {
   "cell_type": "code",
   "execution_count": 7,
   "id": "5c85c299-fbf9-46d2-8f2f-d889fa7ae121",
   "metadata": {},
   "outputs": [],
   "source": [
    "scaler = StandardScaler()\n",
    "X_scaled = scaler.fit_transform(X)"
   ]
  },
  {
   "cell_type": "code",
   "execution_count": 9,
   "id": "672c22ce-463d-4ff7-af74-e1817c322c8c",
   "metadata": {},
   "outputs": [],
   "source": [
    "model_1 = LinearRegression()\n",
    "model_2 = RandomForestRegressor()"
   ]
  },
  {
   "cell_type": "code",
   "execution_count": 11,
   "id": "5bf5c8c5-5768-46ba-bc93-565ed1dcce9b",
   "metadata": {},
   "outputs": [],
   "source": [
    "cv_scores_lr = cross_val_score(model_1, X_scaled, y, cv=5, scoring='neg_mean_squared_error')\n",
    "cv_scores_rf = cross_val_score(model_2, X_scaled, y, cv=5, scoring='neg_mean_squared_error')"
   ]
  },
  {
   "cell_type": "code",
   "execution_count": 13,
   "id": "ccbd2d73-6a15-4a4f-ba49-aed21e592ac3",
   "metadata": {},
   "outputs": [],
   "source": [
    "results = {\n",
    "    'Model': ['Linear Regression', 'Random Forest Regressor'],\n",
    "    'Mean Negative MSE': [cv_scores_lr.mean(), cv_scores_rf.mean()],\n",
    "    'Standard Deviation': [cv_scores_lr.std(), cv_scores_rf.std()]\n",
    "}"
   ]
  },
  {
   "cell_type": "code",
   "execution_count": 17,
   "id": "c8a15b30-0f1c-461f-b1b0-53d34ddb7261",
   "metadata": {},
   "outputs": [
    {
     "name": "stdout",
     "output_type": "stream",
     "text": [
      "                     Model  Mean Negative MSE  Standard Deviation\n",
      "0        Linear Regression      -3.527098e+10        7.476959e+09\n",
      "1  Random Forest Regressor      -6.595049e+08        8.031761e+08\n"
     ]
    }
   ],
   "source": [
    "results_df = pd.DataFrame(results)\n",
    "print(results_df)"
   ]
  },
  {
   "cell_type": "code",
   "execution_count": null,
   "id": "341ab883-bb86-40c3-940d-e2c358769dc2",
   "metadata": {},
   "outputs": [],
   "source": []
  }
 ],
 "metadata": {
  "kernelspec": {
   "display_name": "Python [conda env:base] *",
   "language": "python",
   "name": "conda-base-py"
  },
  "language_info": {
   "codemirror_mode": {
    "name": "ipython",
    "version": 3
   },
   "file_extension": ".py",
   "mimetype": "text/x-python",
   "name": "python",
   "nbconvert_exporter": "python",
   "pygments_lexer": "ipython3",
   "version": "3.12.7"
  }
 },
 "nbformat": 4,
 "nbformat_minor": 5
}
