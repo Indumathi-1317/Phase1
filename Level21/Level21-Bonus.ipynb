{
 "cells": [
  {
   "cell_type": "code",
   "execution_count": 1,
   "id": "cccca42c-be19-4445-ba75-864558662283",
   "metadata": {},
   "outputs": [],
   "source": [
    "import numpy as np\n",
    "import pandas as pd\n",
    "import time\n",
    "from sklearn.model_selection import train_test_split\n",
    "from sklearn.preprocessing import StandardScaler\n",
    "from sklearn.metrics import accuracy_score\n",
    "import tensorflow as tf\n",
    "from tensorflow.keras.models import Sequential\n",
    "from tensorflow.keras.layers import Dense\n",
    "import torch\n",
    "import torch.nn as nn\n",
    "import torch.optim as optim"
   ]
  },
  {
   "cell_type": "code",
   "execution_count": 3,
   "id": "605de3bb-c5ce-47ce-8146-63600a2ca1bf",
   "metadata": {},
   "outputs": [],
   "source": [
    "df = pd.read_csv(\"D:/winequality.csv\")"
   ]
  },
  {
   "cell_type": "code",
   "execution_count": 5,
   "id": "75cc07c4-6335-4030-ac9d-3be3db13839f",
   "metadata": {},
   "outputs": [],
   "source": [
    "X = df.drop('quality', axis=1).values\n",
    "y = df['quality'].values\n",
    "y = (y >= 6).astype(int)"
   ]
  },
  {
   "cell_type": "code",
   "execution_count": 7,
   "id": "88dc5940-fe44-4217-b213-b3206b6cb728",
   "metadata": {},
   "outputs": [],
   "source": [
    "scaler = StandardScaler()\n",
    "X_scaled = scaler.fit_transform(X)"
   ]
  },
  {
   "cell_type": "code",
   "execution_count": 9,
   "id": "ee1906d5-9b8c-466e-b52f-9fe7f4ccd1e2",
   "metadata": {},
   "outputs": [],
   "source": [
    "X_train, X_test, y_train, y_test = train_test_split(X_scaled, y, test_size=0.2, random_state=42)"
   ]
  },
  {
   "cell_type": "code",
   "execution_count": 11,
   "id": "9254f39b-be61-48f8-a33f-c30a28e5f887",
   "metadata": {},
   "outputs": [
    {
     "name": "stderr",
     "output_type": "stream",
     "text": [
      "C:\\Users\\indum\\anaconda3\\Lib\\site-packages\\keras\\src\\layers\\core\\dense.py:87: UserWarning: Do not pass an `input_shape`/`input_dim` argument to a layer. When using Sequential models, prefer using an `Input(shape)` object as the first layer in the model instead.\n",
      "  super().__init__(activity_regularizer=activity_regularizer, **kwargs)\n"
     ]
    }
   ],
   "source": [
    "def build_tf_model(input_shape):\n",
    "    model = Sequential()\n",
    "    model.add(Dense(32, activation='relu', input_dim=input_shape))\n",
    "    model.add(Dense(1, activation='sigmoid'))\n",
    "    model.compile(optimizer='adam', loss='binary_crossentropy', metrics=['accuracy'])\n",
    "    return model\n",
    "tf_model = build_tf_model(X_train.shape[1])"
   ]
  },
  {
   "cell_type": "code",
   "execution_count": 13,
   "id": "a6ca1bf1-16b7-4e51-914d-28989f511a03",
   "metadata": {},
   "outputs": [],
   "source": [
    "class SimpleNN(nn.Module):\n",
    "    def __init__(self, input_dim):\n",
    "        super(SimpleNN, self).__init__()\n",
    "        self.fc1 = nn.Linear(input_dim, 32)  \n",
    "        self.fc2 = nn.Linear(32, 1)  \n",
    "\n",
    "    def forward(self, x):\n",
    "        x = torch.relu(self.fc1(x))  \n",
    "        x = torch.sigmoid(self.fc2(x))  \n",
    "        return x"
   ]
  },
  {
   "cell_type": "code",
   "execution_count": 15,
   "id": "b933f8b5-f748-41e3-8b7b-133eb2fa1921",
   "metadata": {},
   "outputs": [],
   "source": [
    "X_train_tensor = torch.tensor(X_train, dtype=torch.float32)\n",
    "y_train_tensor = torch.tensor(y_train, dtype=torch.float32).view(-1, 1)\n",
    "pytorch_model = SimpleNN(X_train.shape[1])"
   ]
  },
  {
   "cell_type": "code",
   "execution_count": 17,
   "id": "b5e3ea88-9880-4196-9ecc-dede059c3424",
   "metadata": {},
   "outputs": [
    {
     "name": "stdout",
     "output_type": "stream",
     "text": [
      "TensorFlow Training Time: 3.6443 seconds\n"
     ]
    }
   ],
   "source": [
    "start_time_tf = time.time()\n",
    "tf_model.fit(X_train, y_train, epochs=10, batch_size=32, verbose=0)\n",
    "end_time_tf = time.time()\n",
    "train_time_tf = end_time_tf - start_time_tf\n",
    "print(f\"TensorFlow Training Time: {train_time_tf:.4f} seconds\")"
   ]
  },
  {
   "cell_type": "code",
   "execution_count": 19,
   "id": "4c8f4d7b-7db6-40dd-8db7-13d5213ed886",
   "metadata": {},
   "outputs": [
    {
     "name": "stdout",
     "output_type": "stream",
     "text": [
      "PyTorch Training Time: 4.5138 seconds\n"
     ]
    }
   ],
   "source": [
    "start_time_pt = time.time()\n",
    "criterion = nn.BCELoss()\n",
    "optimizer = optim.Adam(pytorch_model.parameters(), lr=0.001)\n",
    "for epoch in range(10):\n",
    "    outputs = pytorch_model(X_train_tensor)\n",
    "    loss = criterion(outputs, y_train_tensor)\n",
    "    optimizer.zero_grad()\n",
    "    loss.backward()\n",
    "    optimizer.step()\n",
    "\n",
    "end_time_pt = time.time()\n",
    "train_time_pt = end_time_pt - start_time_pt\n",
    "print(f\"PyTorch Training Time: {train_time_pt:.4f} seconds\")"
   ]
  },
  {
   "cell_type": "code",
   "execution_count": 21,
   "id": "93334e23-e853-4b3a-9a16-4c478aa222b4",
   "metadata": {},
   "outputs": [
    {
     "name": "stdout",
     "output_type": "stream",
     "text": [
      "\u001b[1m10/10\u001b[0m \u001b[32m━━━━━━━━━━━━━━━━━━━━\u001b[0m\u001b[37m\u001b[0m \u001b[1m0s\u001b[0m 3ms/step \n",
      "TensorFlow Test Accuracy: 0.7500\n"
     ]
    }
   ],
   "source": [
    "y_pred_tf = tf_model.predict(X_test)\n",
    "y_pred_tf = (y_pred_tf > 0.5).astype(int)\n",
    "accuracy_tf = accuracy_score(y_test, y_pred_tf)\n",
    "print(f\"TensorFlow Test Accuracy: {accuracy_tf:.4f}\")"
   ]
  },
  {
   "cell_type": "code",
   "execution_count": 23,
   "id": "27357ea8-a632-418d-abc2-855417dcc35d",
   "metadata": {},
   "outputs": [
    {
     "name": "stdout",
     "output_type": "stream",
     "text": [
      "PyTorch Test Accuracy: 0.6062\n"
     ]
    }
   ],
   "source": [
    "X_test_tensor = torch.tensor(X_test, dtype=torch.float32)\n",
    "y_test_tensor = torch.tensor(y_test, dtype=torch.float32).view(-1, 1)\n",
    "pytorch_model.eval()\n",
    "with torch.no_grad():\n",
    "    y_pred_pt = pytorch_model(X_test_tensor)\n",
    "    y_pred_pt = (y_pred_pt > 0.5).float()\n",
    "    \n",
    "accuracy_pt = accuracy_score(y_test, y_pred_pt)\n",
    "print(f\"PyTorch Test Accuracy: {accuracy_pt:.4f}\")"
   ]
  },
  {
   "cell_type": "code",
   "execution_count": 25,
   "id": "113085a3-ae32-4058-a681-c21e0d9c9d88",
   "metadata": {},
   "outputs": [
    {
     "name": "stdout",
     "output_type": "stream",
     "text": [
      "\n",
      "Framework Comparison:\n",
      "    Framework  Training Time (s)  Test Accuracy\n",
      "0  TensorFlow           3.644334        0.75000\n",
      "1     PyTorch           4.513783        0.60625\n"
     ]
    }
   ],
   "source": [
    "comparison_df = pd.DataFrame({\n",
    "    'Framework': ['TensorFlow', 'PyTorch'],\n",
    "    'Training Time (s)': [train_time_tf, train_time_pt],\n",
    "    'Test Accuracy': [accuracy_tf, accuracy_pt]\n",
    "})\n",
    "\n",
    "print(\"\\nFramework Comparison:\")\n",
    "print(comparison_df)"
   ]
  },
  {
   "cell_type": "code",
   "execution_count": null,
   "id": "720be447-6720-4e71-85ee-66b159afe0fb",
   "metadata": {},
   "outputs": [],
   "source": []
  }
 ],
 "metadata": {
  "kernelspec": {
   "display_name": "Python [conda env:base] *",
   "language": "python",
   "name": "conda-base-py"
  },
  "language_info": {
   "codemirror_mode": {
    "name": "ipython",
    "version": 3
   },
   "file_extension": ".py",
   "mimetype": "text/x-python",
   "name": "python",
   "nbconvert_exporter": "python",
   "pygments_lexer": "ipython3",
   "version": "3.12.7"
  }
 },
 "nbformat": 4,
 "nbformat_minor": 5
}
