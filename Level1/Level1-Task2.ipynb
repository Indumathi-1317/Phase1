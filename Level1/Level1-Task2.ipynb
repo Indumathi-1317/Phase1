{
 "cells": [
  {
   "cell_type": "code",
   "execution_count": 1,
   "id": "123fe904-433e-4a6f-b625-3b63ab6217ce",
   "metadata": {},
   "outputs": [
    {
     "name": "stdout",
     "output_type": "stream",
     "text": [
      "[1, 2, 3, 4]\n",
      "{2, 4, 6}\n",
      "(1, 3, 5)\n",
      "{'a': 1, 'b': 2, 'c': 3}\n"
     ]
    }
   ],
   "source": [
    "a=[1,2,3]\n",
    "a.append(4)\n",
    "print(a)\n",
    "\n",
    "b={2,4,6}\n",
    "print(b)\n",
    "\n",
    "c=(1,3,5)\n",
    "print(c)\n",
    "\n",
    "d={\"a\":1,\"b\":2,\"c\":3}\n",
    "print(d)"
   ]
  },
  {
   "cell_type": "code",
   "execution_count": null,
   "id": "c54c8c21-03a9-4204-b984-5e4ac941e0f5",
   "metadata": {},
   "outputs": [],
   "source": []
  }
 ],
 "metadata": {
  "kernelspec": {
   "display_name": "Python [conda env:base] *",
   "language": "python",
   "name": "conda-base-py"
  },
  "language_info": {
   "codemirror_mode": {
    "name": "ipython",
    "version": 3
   },
   "file_extension": ".py",
   "mimetype": "text/x-python",
   "name": "python",
   "nbconvert_exporter": "python",
   "pygments_lexer": "ipython3",
   "version": "3.12.7"
  }
 },
 "nbformat": 4,
 "nbformat_minor": 5
}
