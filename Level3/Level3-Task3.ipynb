{
 "cells": [
  {
   "cell_type": "code",
   "execution_count": 1,
   "id": "74c66983-3590-4b70-a926-1d55c8e1a0e5",
   "metadata": {},
   "outputs": [
    {
     "name": "stdout",
     "output_type": "stream",
     "text": [
      "woof\n"
     ]
    }
   ],
   "source": [
    "class Animal:\n",
    "    def sound(self):\n",
    "        return \"animal sound\"\n",
    "class Dog(Animal):\n",
    "    def sound(self):\n",
    "        return \"woof\"\n",
    "dog=Dog()\n",
    "dog_sound=dog.sound()\n",
    "print(dog_sound)"
   ]
  },
  {
   "cell_type": "code",
   "execution_count": null,
   "id": "018bd864-104c-44e6-9630-3e6b37885029",
   "metadata": {},
   "outputs": [],
   "source": []
  }
 ],
 "metadata": {
  "kernelspec": {
   "display_name": "Python [conda env:base] *",
   "language": "python",
   "name": "conda-base-py"
  },
  "language_info": {
   "codemirror_mode": {
    "name": "ipython",
    "version": 3
   },
   "file_extension": ".py",
   "mimetype": "text/x-python",
   "name": "python",
   "nbconvert_exporter": "python",
   "pygments_lexer": "ipython3",
   "version": "3.12.7"
  }
 },
 "nbformat": 4,
 "nbformat_minor": 5
}
