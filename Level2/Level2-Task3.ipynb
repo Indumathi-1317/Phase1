{
 "cells": [
  {
   "cell_type": "code",
   "execution_count": 1,
   "id": "57ff261b-c6fb-418d-88ae-af7d96a67e8d",
   "metadata": {},
   "outputs": [
    {
     "data": {
      "text/plain": [
       "12"
      ]
     },
     "execution_count": 1,
     "metadata": {},
     "output_type": "execute_result"
    }
   ],
   "source": [
    "def calc_area(length,width=2):\n",
    "    area=length*width\n",
    "    return area\n",
    "calc_area(6)"
   ]
  },
  {
   "cell_type": "code",
   "execution_count": null,
   "id": "55400668-e44e-4f96-93b6-6a3b889a77a7",
   "metadata": {},
   "outputs": [],
   "source": []
  }
 ],
 "metadata": {
  "kernelspec": {
   "display_name": "Python [conda env:base] *",
   "language": "python",
   "name": "conda-base-py"
  },
  "language_info": {
   "codemirror_mode": {
    "name": "ipython",
    "version": 3
   },
   "file_extension": ".py",
   "mimetype": "text/x-python",
   "name": "python",
   "nbconvert_exporter": "python",
   "pygments_lexer": "ipython3",
   "version": "3.12.7"
  }
 },
 "nbformat": 4,
 "nbformat_minor": 5
}
