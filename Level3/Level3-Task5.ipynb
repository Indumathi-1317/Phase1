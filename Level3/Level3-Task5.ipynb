{
 "cells": [
  {
   "cell_type": "code",
   "execution_count": 1,
   "id": "21143151-5bee-4af2-848f-387160d25d96",
   "metadata": {},
   "outputs": [
    {
     "name": "stdout",
     "output_type": "stream",
     "text": [
      "[0, 1, 1, 2, 3]\n"
     ]
    }
   ],
   "source": [
    "def fib(num):\n",
    "    a=0\n",
    "    b=1\n",
    "    for _ in range(num):\n",
    "        yield a\n",
    "        a,b=b,a+b\n",
    "fib_sequence = list(fib(5))\n",
    "print(fib_sequence)   "
   ]
  },
  {
   "cell_type": "code",
   "execution_count": null,
   "id": "f0e72f8d-193d-4ba9-bcfe-6468ca077470",
   "metadata": {},
   "outputs": [],
   "source": []
  }
 ],
 "metadata": {
  "kernelspec": {
   "display_name": "Python [conda env:base] *",
   "language": "python",
   "name": "conda-base-py"
  },
  "language_info": {
   "codemirror_mode": {
    "name": "ipython",
    "version": 3
   },
   "file_extension": ".py",
   "mimetype": "text/x-python",
   "name": "python",
   "nbconvert_exporter": "python",
   "pygments_lexer": "ipython3",
   "version": "3.12.7"
  }
 },
 "nbformat": 4,
 "nbformat_minor": 5
}
