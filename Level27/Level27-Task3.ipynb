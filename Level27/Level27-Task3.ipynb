{
 "cells": [
  {
   "cell_type": "code",
   "execution_count": 1,
   "id": "9a41f6eb-e74a-438f-8de7-e939bc99e56e",
   "metadata": {},
   "outputs": [],
   "source": [
    "import tensorflow as tf\n",
    "converter = tf.lite.TFLiteConverter.from_saved_model(\"saved_model/mnist_cnn\")\n",
    "converter.optimizations = [tf.lite.Optimize.DEFAULT]\n",
    "quant_model = converter.convert()\n",
    "with open(\"model_quant.tflite\", \"wb\") as f:\n",
    "    f.write(quant_model)"
   ]
  },
  {
   "cell_type": "code",
   "execution_count": 3,
   "id": "fb6612e6-f02c-4159-be55-673050fbd94c",
   "metadata": {},
   "outputs": [],
   "source": [
    "from keras.layers import TFSMLayer\n",
    "model = TFSMLayer(\"saved_model/mnist_cnn\", call_endpoint=\"serving_default\")"
   ]
  },
  {
   "cell_type": "code",
   "execution_count": 5,
   "id": "fb77cdfa-bc82-4de4-997a-5ed24bef24e8",
   "metadata": {},
   "outputs": [],
   "source": [
    "converter = tf.lite.TFLiteConverter.from_saved_model(\"saved_model/mnist_cnn\")\n",
    "converter.optimizations = [tf.lite.Optimize.DEFAULT]\n",
    "quant_model = converter.convert()"
   ]
  },
  {
   "cell_type": "code",
   "execution_count": 7,
   "id": "12d8a316-bc76-4b91-a2fb-dc007251893c",
   "metadata": {},
   "outputs": [],
   "source": [
    "with open(\"model_fp32.tflite\", \"wb\") as f: f.write(tf.lite.TFLiteConverter.from_saved_model(\"saved_model/mnist_cnn\").convert())\n",
    "with open(\"model_quant.tflite\", \"wb\") as f: f.write(quant_model)"
   ]
  },
  {
   "cell_type": "code",
   "execution_count": 9,
   "id": "2e530a89-e760-43d4-ae4e-bbb6f71a1c29",
   "metadata": {},
   "outputs": [
    {
     "name": "stdout",
     "output_type": "stream",
     "text": [
      "FP32 Size: 1391304\n",
      "Quantized Size: 353696\n"
     ]
    }
   ],
   "source": [
    "import os\n",
    "print(\"FP32 Size:\", os.path.getsize(\"model_fp32.tflite\"))\n",
    "print(\"Quantized Size:\", os.path.getsize(\"model_quant.tflite\"))"
   ]
  },
  {
   "cell_type": "code",
   "execution_count": 11,
   "id": "20bed186-7f89-46f9-bb99-1cdb5f27a940",
   "metadata": {},
   "outputs": [],
   "source": [
    "interpreter_fp32 = tf.lite.Interpreter(model_path=\"model_fp32.tflite\")\n",
    "interpreter_quant = tf.lite.Interpreter(model_path=\"model_quant.tflite\")\n",
    "interpreter_fp32.allocate_tensors(); interpreter_quant.allocate_tensors()"
   ]
  },
  {
   "cell_type": "code",
   "execution_count": 14,
   "id": "ac20ef19-3fca-4ae6-b97e-c5ef59a70fa6",
   "metadata": {},
   "outputs": [],
   "source": [
    "from tensorflow.keras.datasets import mnist\n",
    "from tensorflow.keras.utils import to_categorical\n",
    "(x_train, y_train), (x_test, y_test) = mnist.load_data()\n",
    "x_test = x_test.astype(\"float32\") / 255.0\n",
    "x_test = x_test[..., None] \n",
    "y_test = to_categorical(y_test)"
   ]
  },
  {
   "cell_type": "code",
   "execution_count": 18,
   "id": "235ca264-a4ff-438f-a2de-52f11b5eb48c",
   "metadata": {},
   "outputs": [],
   "source": [
    "import time\n",
    "import numpy as np\n",
    "def evaluate_model(interpreter, test_images, test_labels):\n",
    "    input_index = interpreter.get_input_details()[0]['index']\n",
    "    output_index = interpreter.get_output_details()[0]['index']\n",
    "    correct = 0\n",
    "    total_time = 0\n",
    "    for i in range(len(test_images)):\n",
    "        img = np.expand_dims(test_images[i], axis=0).astype(np.float32)\n",
    "        interpreter.set_tensor(input_index, img)\n",
    "        start = time.time()\n",
    "        interpreter.invoke()\n",
    "        total_time += time.time() - start\n",
    "        output = interpreter.get_tensor(output_index)\n",
    "        if np.argmax(output) == np.argmax(test_labels[i]):\n",
    "            correct += 1\n",
    "    return correct / len(test_images), total_time / len(test_images)\n",
    "\n",
    "acc_fp32, time_fp32 = evaluate_model(interpreter_fp32, x_test, y_test)\n",
    "acc_quant, time_quant = evaluate_model(interpreter_quant, x_test, y_test)\n"
   ]
  },
  {
   "cell_type": "code",
   "execution_count": 20,
   "id": "3ba9744c-097e-47dd-897d-b0279e10738d",
   "metadata": {},
   "outputs": [
    {
     "name": "stdout",
     "output_type": "stream",
     "text": [
      "Model          Size (KB)      Accuracy       Time (s/sample)     \n",
      "FP32           1358           0.9840         0.0001              \n",
      "Quantized      345            0.9840         0.0000              \n"
     ]
    }
   ],
   "source": [
    "print(f\"{'Model':<15}{'Size (KB)':<15}{'Accuracy':<15}{'Time (s/sample)':<20}\")\n",
    "print(f\"{'FP32':<15}{os.path.getsize('model_fp32.tflite')//1024:<15}{acc_fp32:<15.4f}{time_fp32:<20.4f}\")\n",
    "print(f\"{'Quantized':<15}{os.path.getsize('model_quant.tflite')//1024:<15}{acc_quant:<15.4f}{time_quant:<20.4f}\")"
   ]
  },
  {
   "cell_type": "code",
   "execution_count": null,
   "id": "0ceb89d0-953e-43d9-998b-b356a1be7d59",
   "metadata": {},
   "outputs": [],
   "source": []
  }
 ],
 "metadata": {
  "kernelspec": {
   "display_name": "Python [conda env:base] *",
   "language": "python",
   "name": "conda-base-py"
  },
  "language_info": {
   "codemirror_mode": {
    "name": "ipython",
    "version": 3
   },
   "file_extension": ".py",
   "mimetype": "text/x-python",
   "name": "python",
   "nbconvert_exporter": "python",
   "pygments_lexer": "ipython3",
   "version": "3.12.7"
  }
 },
 "nbformat": 4,
 "nbformat_minor": 5
}
