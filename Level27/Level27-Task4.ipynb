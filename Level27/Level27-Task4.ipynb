{
 "cells": [
  {
   "cell_type": "code",
   "execution_count": 7,
   "id": "9bac46a1-8033-44ef-a011-739d2e86a2d2",
   "metadata": {},
   "outputs": [],
   "source": [
    "from transformers import TFDistilBertForSequenceClassification, DistilBertTokenizerFast\n",
    "from tensorflow.keras.optimizers import Adam\n",
    "from tensorflow.keras.losses import SparseCategoricalCrossentropy\n",
    "import tensorflow as tf\n",
    "import pandas as pd"
   ]
  },
  {
   "cell_type": "code",
   "execution_count": 11,
   "id": "dae52310-5f9f-4e76-acd0-3f3e54897bb8",
   "metadata": {},
   "outputs": [],
   "source": [
    "import pandas as pd\n",
    "df = pd.read_csv(\"D:/datasets/Sentiment_dataset.csv\", encoding='latin-1', header=None, names=['target', 'ids', 'date', 'flag', 'user', 'text'])\n",
    "texts = df['text'].astype(str).tolist()[:10000]\n",
    "labels = df['target'].apply(lambda x: 0 if x == 0 else 1).tolist()[:10000]"
   ]
  },
  {
   "cell_type": "code",
   "execution_count": 15,
   "id": "7744c337-0bfb-4e57-93dc-4f54714daf37",
   "metadata": {},
   "outputs": [],
   "source": [
    "tokenizer = DistilBertTokenizerFast.from_pretrained('distilbert-base-uncased')\n",
    "encodings = tokenizer(texts, truncation=True, padding=True, max_length=128)"
   ]
  },
  {
   "cell_type": "code",
   "execution_count": 17,
   "id": "10050fc1-6d7b-47fe-8bc1-4f6b1571d3b9",
   "metadata": {},
   "outputs": [],
   "source": [
    "dataset = tf.data.Dataset.from_tensor_slices((dict(encodings), labels)).shuffle(1000).batch(8)\n",
    "train_size = int(0.8 * len(dataset))\n",
    "train_dataset = dataset.take(train_size)\n",
    "test_dataset = dataset.skip(train_size)"
   ]
  },
  {
   "cell_type": "code",
   "execution_count": 25,
   "id": "cad3f4e9-6cb5-407c-bcbc-1626a5170a26",
   "metadata": {},
   "outputs": [
    {
     "name": "stdout",
     "output_type": "stream",
     "text": [
      "Epoch 1/2\n",
      "85/85 [==============================] - 56s 453ms/step - loss: 2.5523e-05 - accuracy: 1.0000\n",
      "Epoch 2/2\n",
      "85/85 [==============================] - 39s 464ms/step - loss: 1.8469e-06 - accuracy: 1.0000\n"
     ]
    },
    {
     "data": {
      "text/plain": [
       "<tf_keras.src.callbacks.History at 0x156dcc7c710>"
      ]
     },
     "execution_count": 25,
     "metadata": {},
     "output_type": "execute_result"
    }
   ],
   "source": [
    "from transformers import AdamWeightDecay\n",
    "from tensorflow.keras.losses import SparseCategoricalCrossentropy\n",
    "\n",
    "optimizer = AdamWeightDecay(learning_rate=5e-5)\n",
    "loss_fn = SparseCategoricalCrossentropy(from_logits=True)\n",
    "model.compile(optimizer=optimizer, loss=loss_fn, metrics=['accuracy'])\n",
    "model.fit(train_dataset, epochs=2)"
   ]
  },
  {
   "cell_type": "code",
   "execution_count": 26,
   "id": "eb39331b-58c6-45f8-a247-93a99479e612",
   "metadata": {},
   "outputs": [
    {
     "name": "stdout",
     "output_type": "stream",
     "text": [
      "22/22 [==============================] - 6s 74ms/step - loss: 7.1526e-07 - accuracy: 1.0000\n"
     ]
    }
   ],
   "source": [
    "loss, accuracy = model.evaluate(test_dataset)"
   ]
  },
  {
   "cell_type": "code",
   "execution_count": 29,
   "id": "c66d0fe7-2132-4832-beec-44c4ea46d33a",
   "metadata": {},
   "outputs": [
    {
     "name": "stdout",
     "output_type": "stream",
     "text": [
      "Test Loss: 7.152556236178498e-07, Test Accuracy: 1.0\n",
      "1/1 [==============================] - 4s 4s/step\n",
      "Text: nan\n",
      "Predicted label: 1, True label: 1\n",
      "Text: nan\n",
      "Predicted label: 1, True label: 1\n",
      "Text: nan\n",
      "Predicted label: 1, True label: 1\n",
      "Text: nan\n",
      "Predicted label: 1, True label: 1\n",
      "Text: nan\n",
      "Predicted label: 1, True label: 1\n"
     ]
    }
   ],
   "source": [
    "print(f\"Test Loss: {loss}, Test Accuracy: {accuracy}\")\n",
    "for batch in test_dataset.take(1):\n",
    "    preds = model.predict(batch[0]).logits\n",
    "    pred_labels = tf.argmax(preds, axis=1).numpy()\n",
    "    for i in range(5):\n",
    "        print(f\"Text: {tokenizer.decode(batch[0]['input_ids'][i], skip_special_tokens=True)}\")\n",
    "        print(f\"Predicted label: {pred_labels[i]}, True label: {batch[1][i].numpy()}\")"
   ]
  },
  {
   "cell_type": "code",
   "execution_count": null,
   "id": "040a4637-276e-405d-b5e1-e190e19d4e35",
   "metadata": {},
   "outputs": [],
   "source": []
  }
 ],
 "metadata": {
  "kernelspec": {
   "display_name": "Python [conda env:base] *",
   "language": "python",
   "name": "conda-base-py"
  },
  "language_info": {
   "codemirror_mode": {
    "name": "ipython",
    "version": 3
   },
   "file_extension": ".py",
   "mimetype": "text/x-python",
   "name": "python",
   "nbconvert_exporter": "python",
   "pygments_lexer": "ipython3",
   "version": "3.12.7"
  }
 },
 "nbformat": 4,
 "nbformat_minor": 5
}
