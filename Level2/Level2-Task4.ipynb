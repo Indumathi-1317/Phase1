{
 "cells": [
  {
   "cell_type": "code",
   "execution_count": 1,
   "id": "94badb13-0e8a-4d8c-a73b-0f8a79a435af",
   "metadata": {},
   "outputs": [
    {
     "name": "stdout",
     "output_type": "stream",
     "text": [
      "[8, 64]\n"
     ]
    }
   ],
   "source": [
    "import numpy as np\n",
    "lst=np.arange(1,6)\n",
    "even_number = filter(lambda x:x%2==0,lst)\n",
    "even_list=list(even_number)\n",
    "cubed_even=map(lambda x:x**3,even_list)\n",
    "print(list(cubed_even))\n"
   ]
  },
  {
   "cell_type": "code",
   "execution_count": null,
   "id": "4dd745ac-f2d2-465f-b8ce-5b6a696fbd68",
   "metadata": {},
   "outputs": [],
   "source": []
  }
 ],
 "metadata": {
  "kernelspec": {
   "display_name": "Python [conda env:base] *",
   "language": "python",
   "name": "conda-base-py"
  },
  "language_info": {
   "codemirror_mode": {
    "name": "ipython",
    "version": 3
   },
   "file_extension": ".py",
   "mimetype": "text/x-python",
   "name": "python",
   "nbconvert_exporter": "python",
   "pygments_lexer": "ipython3",
   "version": "3.12.7"
  }
 },
 "nbformat": 4,
 "nbformat_minor": 5
}
