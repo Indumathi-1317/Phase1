{
 "cells": [
  {
   "cell_type": "code",
   "execution_count": 1,
   "id": "b9d06fca-b6f8-4e6b-b429-8605bd0a3adf",
   "metadata": {},
   "outputs": [],
   "source": [
    "import tensorflow as tf\n",
    "import time\n",
    "import numpy as np\n",
    "from tensorflow.keras.datasets import mnist\n",
    "from tensorflow.keras.models import Sequential\n",
    "from tensorflow.keras.layers import Dense, Flatten\n",
    "from tensorflow.keras.utils import to_categorical"
   ]
  },
  {
   "cell_type": "code",
   "execution_count": 3,
   "id": "d72eda91-3470-4896-b8ec-74156049712f",
   "metadata": {},
   "outputs": [],
   "source": [
    "(x_train, y_train), (x_test, y_test) = mnist.load_data()\n",
    "x_train, x_test = x_train / 255.0, x_test / 255.0\n",
    "y_train, y_test = to_categorical(y_train, 10), to_categorical(y_test, 10)"
   ]
  },
  {
   "cell_type": "code",
   "execution_count": 5,
   "id": "4aeba8fc-d72a-414f-a169-dd1fb39bd3ad",
   "metadata": {},
   "outputs": [],
   "source": [
    "def create_model():\n",
    "    model = Sequential([\n",
    "        Flatten(input_shape=(28, 28)),\n",
    "        Dense(256, activation='relu'),\n",
    "        Dense(256, activation='relu'),\n",
    "        Dense(10, activation='softmax')\n",
    "    ])\n",
    "    model.compile(optimizer='adam',\n",
    "                  loss='categorical_crossentropy',\n",
    "                  metrics=['accuracy'])\n",
    "    return model\n",
    "\n",
    "results = {}"
   ]
  },
  {
   "cell_type": "code",
   "execution_count": 7,
   "id": "e1a1e4b9-2403-4a02-b6f3-54086a12f82b",
   "metadata": {},
   "outputs": [
    {
     "name": "stderr",
     "output_type": "stream",
     "text": [
      "C:\\Users\\indum\\anaconda3\\Lib\\site-packages\\keras\\src\\layers\\reshaping\\flatten.py:37: UserWarning: Do not pass an `input_shape`/`input_dim` argument to a layer. When using Sequential models, prefer using an `Input(shape)` object as the first layer in the model instead.\n",
      "  super().__init__(**kwargs)\n"
     ]
    }
   ],
   "source": [
    "with tf.device('/CPU:0'):\n",
    "    model_cpu = create_model()\n",
    "    start_time = time.time()\n",
    "    model_cpu.fit(x_train, y_train, epochs=10, batch_size=128, verbose=0)\n",
    "    cpu_time = time.time() - start_time\n",
    "    _, cpu_accuracy = model_cpu.evaluate(x_test, y_test, verbose=0)\n",
    "    results['CPU'] = {'Time (s)': cpu_time, 'Accuracy': cpu_accuracy}"
   ]
  },
  {
   "cell_type": "code",
   "execution_count": 9,
   "id": "7ec94e40-7239-4779-87f8-223c6c13f3fd",
   "metadata": {},
   "outputs": [],
   "source": [
    "if tf.config.list_physical_devices('GPU'):\n",
    "    model_gpu = create_model()\n",
    "    start_time = time.time()\n",
    "    model_gpu.fit(x_train, y_train, epochs=10, batch_size=128, verbose=0)\n",
    "    gpu_time = time.time() - start_time\n",
    "    _, gpu_accuracy = model_gpu.evaluate(x_test, y_test, verbose=0)\n",
    "    results['GPU'] = {'Time (s)': gpu_time, 'Accuracy': gpu_accuracy}\n",
    "else:\n",
    "    results['GPU'] = {'Time (s)': 'N/A', 'Accuracy': 'N/A'}"
   ]
  },
  {
   "cell_type": "code",
   "execution_count": 11,
   "id": "577fd2d0-da62-4518-b057-22fbf125d0f1",
   "metadata": {},
   "outputs": [
    {
     "name": "stdout",
     "output_type": "stream",
     "text": [
      "\n",
      "🔹 Benchmark Results:\n",
      "Device     Time (s)        Accuracy  \n",
      "CPU        44.86           0.9789    \n",
      "GPU        N/A             N/A       \n",
      "\n",
      "Note: GPU training is generally faster due to parallel computations, especially beneficial for deeper networks.\n"
     ]
    }
   ],
   "source": [
    "print(\"\\n🔹 Benchmark Results:\")\n",
    "print(\"{:<10} {:<15} {:<10}\".format('Device', 'Time (s)', 'Accuracy'))\n",
    "for device, metrics in results.items():\n",
    "    print(\"{:<10} {:<15} {:<10}\".format(device, round(metrics['Time (s)'], 2) if metrics['Time (s)'] != 'N/A' else 'N/A',\n",
    "                                        round(metrics['Accuracy'], 4) if metrics['Accuracy'] != 'N/A' else 'N/A'))\n",
    "\n",
    "print(\"\\nNote: GPU training is generally faster due to parallel computations, especially beneficial for deeper networks.\")"
   ]
  },
  {
   "cell_type": "code",
   "execution_count": null,
   "id": "64e12078-214a-4a20-b83f-acf64520fedf",
   "metadata": {},
   "outputs": [],
   "source": []
  }
 ],
 "metadata": {
  "kernelspec": {
   "display_name": "Python [conda env:base] *",
   "language": "python",
   "name": "conda-base-py"
  },
  "language_info": {
   "codemirror_mode": {
    "name": "ipython",
    "version": 3
   },
   "file_extension": ".py",
   "mimetype": "text/x-python",
   "name": "python",
   "nbconvert_exporter": "python",
   "pygments_lexer": "ipython3",
   "version": "3.12.7"
  }
 },
 "nbformat": 4,
 "nbformat_minor": 5
}
