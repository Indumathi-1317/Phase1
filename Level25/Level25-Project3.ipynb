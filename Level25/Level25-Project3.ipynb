{
 "cells": [
  {
   "cell_type": "code",
   "execution_count": 3,
   "id": "41b0475b-2512-460e-94ba-df895fb42381",
   "metadata": {},
   "outputs": [],
   "source": [
    "import pandas as pd\n",
    "import numpy as np\n",
    "from sklearn.model_selection import train_test_split\n",
    "from sklearn.preprocessing import StandardScaler\n",
    "from tensorflow.keras.models import Sequential\n",
    "from tensorflow.keras.layers import Dense, Dropout\n",
    "from sklearn.metrics import classification_report, confusion_matrix\n",
    "import matplotlib.pyplot as plt"
   ]
  },
  {
   "cell_type": "code",
   "execution_count": 4,
   "id": "d6ae251f-4393-4e8e-b466-f4b4da362b54",
   "metadata": {},
   "outputs": [
    {
     "data": {
      "text/html": [
       "<div>\n",
       "<style scoped>\n",
       "    .dataframe tbody tr th:only-of-type {\n",
       "        vertical-align: middle;\n",
       "    }\n",
       "\n",
       "    .dataframe tbody tr th {\n",
       "        vertical-align: top;\n",
       "    }\n",
       "\n",
       "    .dataframe thead th {\n",
       "        text-align: right;\n",
       "    }\n",
       "</style>\n",
       "<table border=\"1\" class=\"dataframe\">\n",
       "  <thead>\n",
       "    <tr style=\"text-align: right;\">\n",
       "      <th></th>\n",
       "      <th>Unnamed: 0</th>\n",
       "      <th>state</th>\n",
       "      <th>n_households</th>\n",
       "      <th>percent_pet_households</th>\n",
       "      <th>n_pet_households</th>\n",
       "      <th>percent_dog_owners</th>\n",
       "      <th>n_dog_households</th>\n",
       "      <th>avg_dogs_per_household</th>\n",
       "      <th>dog_population</th>\n",
       "      <th>percent_cat_owners</th>\n",
       "      <th>n_cat_households</th>\n",
       "      <th>avg_cats_per_household</th>\n",
       "      <th>cat_population</th>\n",
       "    </tr>\n",
       "  </thead>\n",
       "  <tbody>\n",
       "    <tr>\n",
       "      <th>0</th>\n",
       "      <td>1</td>\n",
       "      <td>Alabama</td>\n",
       "      <td>1828</td>\n",
       "      <td>59.5</td>\n",
       "      <td>1088</td>\n",
       "      <td>44.1</td>\n",
       "      <td>807</td>\n",
       "      <td>1.7</td>\n",
       "      <td>1410</td>\n",
       "      <td>27.4</td>\n",
       "      <td>501</td>\n",
       "      <td>2.5</td>\n",
       "      <td>1252</td>\n",
       "    </tr>\n",
       "    <tr>\n",
       "      <th>1</th>\n",
       "      <td>2</td>\n",
       "      <td>Arizona</td>\n",
       "      <td>2515</td>\n",
       "      <td>59.5</td>\n",
       "      <td>1497</td>\n",
       "      <td>40.1</td>\n",
       "      <td>1008</td>\n",
       "      <td>1.8</td>\n",
       "      <td>1798</td>\n",
       "      <td>29.6</td>\n",
       "      <td>743</td>\n",
       "      <td>1.9</td>\n",
       "      <td>1438</td>\n",
       "    </tr>\n",
       "    <tr>\n",
       "      <th>2</th>\n",
       "      <td>3</td>\n",
       "      <td>Arkansas</td>\n",
       "      <td>1148</td>\n",
       "      <td>62.4</td>\n",
       "      <td>716</td>\n",
       "      <td>47.9</td>\n",
       "      <td>550</td>\n",
       "      <td>2.0</td>\n",
       "      <td>1097</td>\n",
       "      <td>30.6</td>\n",
       "      <td>351</td>\n",
       "      <td>2.3</td>\n",
       "      <td>810</td>\n",
       "    </tr>\n",
       "    <tr>\n",
       "      <th>3</th>\n",
       "      <td>4</td>\n",
       "      <td>California</td>\n",
       "      <td>12974</td>\n",
       "      <td>52.9</td>\n",
       "      <td>6865</td>\n",
       "      <td>32.8</td>\n",
       "      <td>4260</td>\n",
       "      <td>1.6</td>\n",
       "      <td>6687</td>\n",
       "      <td>28.3</td>\n",
       "      <td>3687</td>\n",
       "      <td>1.9</td>\n",
       "      <td>7118</td>\n",
       "    </tr>\n",
       "    <tr>\n",
       "      <th>4</th>\n",
       "      <td>5</td>\n",
       "      <td>Colorado</td>\n",
       "      <td>1986</td>\n",
       "      <td>61.3</td>\n",
       "      <td>1217</td>\n",
       "      <td>42.5</td>\n",
       "      <td>845</td>\n",
       "      <td>1.6</td>\n",
       "      <td>1349</td>\n",
       "      <td>32.3</td>\n",
       "      <td>642</td>\n",
       "      <td>1.9</td>\n",
       "      <td>1191</td>\n",
       "    </tr>\n",
       "  </tbody>\n",
       "</table>\n",
       "</div>"
      ],
      "text/plain": [
       "   Unnamed: 0       state  n_households  percent_pet_households  \\\n",
       "0           1     Alabama          1828                    59.5   \n",
       "1           2     Arizona          2515                    59.5   \n",
       "2           3    Arkansas          1148                    62.4   \n",
       "3           4  California         12974                    52.9   \n",
       "4           5    Colorado          1986                    61.3   \n",
       "\n",
       "   n_pet_households  percent_dog_owners  n_dog_households  \\\n",
       "0              1088                44.1               807   \n",
       "1              1497                40.1              1008   \n",
       "2               716                47.9               550   \n",
       "3              6865                32.8              4260   \n",
       "4              1217                42.5               845   \n",
       "\n",
       "   avg_dogs_per_household  dog_population  percent_cat_owners  \\\n",
       "0                     1.7            1410                27.4   \n",
       "1                     1.8            1798                29.6   \n",
       "2                     2.0            1097                30.6   \n",
       "3                     1.6            6687                28.3   \n",
       "4                     1.6            1349                32.3   \n",
       "\n",
       "   n_cat_households  avg_cats_per_household  cat_population  \n",
       "0               501                     2.5            1252  \n",
       "1               743                     1.9            1438  \n",
       "2               351                     2.3             810  \n",
       "3              3687                     1.9            7118  \n",
       "4               642                     1.9            1191  "
      ]
     },
     "execution_count": 4,
     "metadata": {},
     "output_type": "execute_result"
    }
   ],
   "source": [
    "df = pd.read_csv(\"cats_vs_dogs.csv\")\n",
    "df.head()"
   ]
  },
  {
   "cell_type": "code",
   "execution_count": 5,
   "id": "bd54af72-e194-4f46-9d92-e7d6b85b0aae",
   "metadata": {},
   "outputs": [
    {
     "name": "stdout",
     "output_type": "stream",
     "text": [
      "Index(['Unnamed: 0', 'state', 'n_households', 'percent_pet_households',\n",
      "       'n_pet_households', 'percent_dog_owners', 'n_dog_households',\n",
      "       'avg_dogs_per_household', 'dog_population', 'percent_cat_owners',\n",
      "       'n_cat_households', 'avg_cats_per_household', 'cat_population'],\n",
      "      dtype='object')\n"
     ]
    }
   ],
   "source": [
    "print(df.columns)"
   ]
  },
  {
   "cell_type": "code",
   "execution_count": 7,
   "id": "8338f690-6247-41c2-8c2d-74383a6f97e6",
   "metadata": {},
   "outputs": [],
   "source": [
    "df['target'] = (df['dog_population'] > df['cat_population']).astype(int)\n",
    "df = df.drop(columns=['Unnamed: 0', 'state']) "
   ]
  },
  {
   "cell_type": "code",
   "execution_count": 8,
   "id": "68f37a55-1286-445c-b4f5-a14cbd38077d",
   "metadata": {},
   "outputs": [],
   "source": [
    "X = df.drop(columns='target')\n",
    "y = df['target']\n",
    "\n",
    "scaler = StandardScaler()\n",
    "X_scaled = scaler.fit_transform(X)\n",
    "\n",
    "\n",
    "X_train, X_test, y_train, y_test = train_test_split(X_scaled, y, test_size=0.2, random_state=42)"
   ]
  },
  {
   "cell_type": "code",
   "execution_count": 9,
   "id": "5ca556f0-a6e5-4c98-b08e-732503e5f962",
   "metadata": {
    "scrolled": true
   },
   "outputs": [
    {
     "name": "stdout",
     "output_type": "stream",
     "text": [
      "[[ 2.97805595e-02  4.43229440e-01  1.05189664e-01  4.43229420e-01\n",
      "   1.27602858e-01  6.10278198e-02  1.41302152e-01  4.90169895e-01\n",
      "   1.74577315e-01  8.40314306e-01  2.90129787e-01]\n",
      " [-1.67947264e-01  6.47293465e-01 -9.34243318e-02  8.37005069e-01\n",
      "  -3.55364364e-02  6.10278198e-02 -4.49514567e-02  1.16828058e-01\n",
      "  -1.21223866e-01 -7.43354963e-01 -2.08871977e-01]\n",
      " [-3.71703375e-01  2.97469423e-01 -3.50060394e-01  9.43021590e-01\n",
      "  -2.70049172e-01  2.55299713e+00 -6.01276767e-02  1.70162606e-01\n",
      "  -3.46596195e-01  8.40314306e-01 -3.12686491e-01]\n",
      " [ 2.09185671e+00 -3.58450655e-01  2.07942766e+00 -1.92869706e-01\n",
      "   2.08640730e+00 -4.37366042e-01  1.92864697e+00 -7.72081078e-01\n",
      "   1.90290136e+00  3.12424550e-01  1.99476411e+00]\n",
      " [ 4.24797413e+00 -5.77090681e-01  4.10796837e+00 -6.32081006e-01\n",
      "   3.83335724e+00  6.10278198e-02  3.63735137e+00 -5.94299251e-01\n",
      "   4.16789327e+00 -7.43354963e-01  3.89318552e+00]\n",
      " [-8.31862640e-01 -3.77786167e-02 -8.58125411e-01 -4.95774051e-01\n",
      "  -8.64827848e-01 -9.35759903e-01 -8.63087679e-01  3.65722616e-01\n",
      "  -8.66361128e-01 -1.79913448e+00 -9.03737125e-01]\n",
      " [ 7.19785707e-02  3.99501435e-01  1.46846533e-01  1.07932855e+00\n",
      "   2.98672534e-01  1.55620940e+00  5.12429713e-01 -3.27626510e-01\n",
      "   5.90739969e-02  1.36820406e+00  1.77318015e-01]\n",
      " [ 2.65168365e+00  2.39165416e-01  2.91777214e+00  1.06418333e+00\n",
      "   3.49348371e+00  1.05781554e+00  3.96570958e+00 -5.94299251e-01\n",
      "   2.55788969e+00  8.40314306e-01  2.81835925e+00]\n",
      " [-6.58649851e-01  7.63901478e-01 -6.45377834e-01  1.33679724e+00\n",
      "  -5.96327760e-01  1.05781554e+00 -5.28521011e-01  1.14796265e+00\n",
      "  -6.15634412e-01  8.40314306e-01 -5.98522453e-01]\n",
      " [-2.51941401e-01  6.91021470e-01 -1.84920667e-01  1.35194246e+00\n",
      "  -6.83908775e-02  1.55620940e+00  8.05972721e-02  9.16846280e-01\n",
      "  -1.04320941e-01  3.12424550e-01 -9.95206892e-02]\n",
      " [ 5.60269843e-01 -2.56418643e-01  5.58208105e-01  4.73519854e-01\n",
      "   7.31444828e-01  6.10278198e-02  7.34554387e-01 -7.72081078e-01\n",
      "   4.35164071e-01  3.12424550e-01  4.63153977e-01]\n",
      " [-2.82082837e-01 -2.56418643e-01 -3.01708672e-01 -8.68531848e-02\n",
      "  -2.91574495e-01  1.05781554e+00 -2.06371251e-01 -1.02097564e+00\n",
      "  -4.04347854e-01 -2.15465207e-01 -4.26190360e-01]\n",
      " [-8.01319318e-01  6.47293465e-01 -8.12005307e-01  6.40117244e-01\n",
      "  -8.01384789e-01  5.59421681e-01 -7.80998125e-01  3.47944433e-01\n",
      "  -8.31146702e-01 -2.15465207e-01 -8.41448416e-01]\n",
      " [ 9.07097306e-01  7.88293971e-02  9.92629730e-01 -5.65627502e-02\n",
      "   9.42166416e-01  6.10278198e-02  9.07701260e-01  2.94609885e-01\n",
      "   1.16198983e+00  1.89609382e+00  1.58711912e+00]\n",
      " [ 2.05287378e+00 -9.12338721e-01  1.82948646e+00 -1.20759926e+00\n",
      "   1.47350203e+00 -9.35759903e-01  1.13120559e+00 -4.52073789e-01\n",
      "   2.05784484e+00 -7.43354963e-01  1.91586508e+00]\n",
      " [-2.31445224e-01  3.84925433e-01 -1.89383903e-01  1.07932855e+00\n",
      "  -7.85870834e-02  5.59421681e-01 -2.87193773e-03 -7.54302895e-01\n",
      "  -3.19833231e-01  2.42398358e+00 -1.66654075e-01]\n",
      " [-8.59592762e-01  2.03201363e+00 -8.58869283e-01  1.10034640e-01\n",
      "  -8.79555701e-01 -9.35759903e-01 -8.77574070e-01  3.17467548e+00\n",
      "  -8.41006741e-01 -1.27124472e+00 -8.71208577e-01]\n",
      " [-8.56779561e-01 -4.31330663e-01 -8.89368062e-01 -1.32288837e-01\n",
      "  -8.81821524e-01 -9.35759903e-01 -8.79643555e-01 -4.31755866e-02\n",
      "  -9.05801286e-01 -2.15465207e-01 -9.12734383e-01]\n",
      " [-4.28771162e-01 -3.58450655e-01 -4.57178055e-01 -1.31361578e+00\n",
      "  -5.63473319e-01 -1.43415376e+00 -6.25786785e-01  4.57153270e-02\n",
      "  -4.24067933e-01 -7.43354963e-01 -4.82250198e-01]\n",
      " [-6.55434765e-01  1.56558157e+00 -6.09671947e-01  1.36708767e+00\n",
      "  -5.89530289e-01  2.05460327e+00 -4.90580461e-01  6.34935097e-02\n",
      "  -6.77611803e-01  8.40314306e-01 -6.64271646e-01]\n",
      " [ 1.05378563e+00 -7.37426700e-01  9.36839282e-01 -6.92661876e-01\n",
      "   8.50400563e-01 -4.37366042e-01  6.55913974e-01 -9.49862905e-01\n",
      "   8.35199954e-01 -7.43354963e-01  6.64554134e-01]\n",
      " [ 1.11246096e+00  5.94938846e-03  1.18975598e+00 -6.16935789e-01\n",
      "   9.35368946e-01 -4.37366042e-01  7.38693356e-01  3.83500798e-01\n",
      "   1.43666236e+00 -2.15465207e-01  1.41963170e+00]\n",
      " [ 4.46503349e-02  3.84925433e-01  1.14860009e-01  4.73519854e-01\n",
      "   1.49128181e-01  1.05781554e+00  2.64781396e-01 -3.63182875e-01\n",
      "   2.10424164e-02 -7.43354963e-01 -3.79240776e-02]\n",
      " [-9.68134740e-02 -5.62514679e-01 -1.46239290e-01 -7.68387962e-01\n",
      "  -2.11137760e-01 -9.35759903e-01 -3.31230152e-01 -3.45404693e-01\n",
      "  -1.19815289e-01 -2.15465207e-01 -1.58348914e-01]\n",
      " [-5.04727582e-01  8.07629484e-01 -4.66104527e-01  1.65484680e+00\n",
      "  -3.69745407e-01  2.05460327e+00 -2.18788158e-01 -1.85401048e-01\n",
      "  -5.31119789e-01  1.36820406e+00 -4.72560843e-01]\n",
      " [-7.91674058e-01 -5.62514679e-01 -8.27626632e-01 -1.16216361e+00\n",
      "  -8.48967083e-01 -1.43415376e+00 -8.64467335e-01 -7.18746529e-01\n",
      "  -8.56501089e-01 -1.27124472e+00 -8.86434706e-01]\n",
      " [-3.61254344e-01  9.82541504e-01 -2.86831219e-01  2.76632030e-01\n",
      "  -3.31226407e-01  6.10278198e-02 -3.42957231e-01  1.52130449e+00\n",
      "  -1.73341217e-01 -2.15465207e-01 -2.13024558e-01]\n",
      " [ 3.78182759e-02  6.61869466e-01  1.42383297e-01  1.35194246e+00\n",
      "   3.07735828e-01  5.59421681e-01  3.88950469e-01  9.90498751e-02\n",
      "   1.08374194e-01  3.12424550e-01  1.10876726e-01]\n",
      " [-8.32264526e-01  1.27406154e+00 -8.35809231e-01  8.82440721e-01\n",
      "  -8.30840495e-01 -4.37366042e-01 -8.23767472e-01  1.32574448e+00\n",
      "  -8.42415318e-01  8.40314306e-01 -8.32451158e-01]\n",
      " [-7.37821358e-01  7.49325477e-01 -7.36874170e-01  8.67295503e-01\n",
      "  -7.18682230e-01 -4.37366042e-01 -7.29261012e-01  5.25726260e-01\n",
      "  -7.49449233e-01 -2.15465207e-01 -7.61165192e-01]\n",
      " [-5.17989814e-01 -6.69306202e-02 -5.30821447e-01  1.24592594e+00\n",
      "  -4.21859348e-01  5.59421681e-01 -3.91935031e-01 -4.52073789e-01\n",
      "  -5.69151370e-01  3.12424550e-01 -5.70838583e-01]\n",
      " [-9.44021591e-02 -6.64546691e-01 -1.55165761e-01 -9.34985352e-01\n",
      "  -2.37194730e-01 -9.35759903e-01 -3.44336887e-01 -3.27626510e-01\n",
      "  -1.16998135e-01  2.95187333e+00  1.27487048e-01]\n",
      " [-8.77275738e-01  7.20173473e-01 -8.96806788e-01  2.76632030e-01\n",
      "  -8.95416465e-01 -4.37366042e-01 -8.89301149e-01  4.01278981e-01\n",
      "  -9.19887056e-01 -7.43354963e-01 -9.33497285e-01]\n",
      " [ 5.62681158e-01 -2.12690637e-01  5.69366195e-01 -3.59467096e-01\n",
      "   5.00330828e-01 -4.37366042e-01  4.28960503e-01 -6.09537693e-02\n",
      "   6.53493514e-01 -2.15465207e-01  6.41714941e-01]\n",
      " [-8.50751274e-01 -5.09565122e+00 -9.51853364e-01 -3.61568881e+00\n",
      "  -9.49796230e-01 -2.43094149e+00 -9.46556888e-01 -3.56325576e+00\n",
      "  -9.79047292e-01 -7.43354963e-01 -9.89557123e-01]\n",
      " [-5.92338691e-01 -8.24882710e-01 -6.44633962e-01 -1.14701839e+00\n",
      "  -6.83561966e-01 -4.37366042e-01 -6.92700118e-01 -1.25209201e+00\n",
      "  -7.02966190e-01 -2.15465207e-01 -7.18255193e-01]\n",
      " [-5.10755869e-01  6.03565459e-01 -4.84701343e-01  8.06714634e-01\n",
      "  -4.49049230e-01  6.10278198e-02 -4.41602660e-01  2.94609885e-01\n",
      "  -4.93088209e-01 -7.43354963e-01 -5.27236487e-01]\n",
      " [ 3.10698748e-01 -8.97762719e-01  1.99661490e-01 -6.92661876e-01\n",
      "   1.71786416e-01 -1.43415376e+00 -5.11599104e-02 -1.12764473e+00\n",
      "   1.05557040e-01 -1.27124472e+00 -1.71611748e-02]\n",
      " [-2.59175346e-01 -4.02178660e-01 -2.91294455e-01  2.46341595e-01\n",
      "  -2.24732701e-01  1.05781554e+00 -1.53944309e-01 -6.83190164e-01\n",
      "  -3.35327578e-01  3.12424550e-01 -3.14070685e-01]] [[-0.47619369 -0.47505867 -0.51222463 -0.5412097  -0.53175179 -0.43736604\n",
      "  -0.55473448 -0.2387356  -0.50435683  0.84031431 -0.47602133]\n",
      " [ 0.09167098  0.85135749  0.22792865 -0.1019984   0.08795095  0.55942168\n",
      "   0.13440387  1.3079663   0.42248688 -1.27124472  0.24306721]\n",
      " [-0.02166083  0.0934054   0.00699848 -0.46548362 -0.09104911 -0.9357599\n",
      "  -0.1905052   0.24127534  0.06752546 -0.74335496  0.01190689]\n",
      " [ 0.24639702 -0.50421067  0.19966149 -0.23830536  0.2182358   0.06102782\n",
      "   0.19648841 -0.46985197  0.20838316  0.31242455  0.25068027]\n",
      " [-0.74585907  0.88050949 -0.74208128 -0.3594671  -0.77759364  0.06102782\n",
      "  -0.76858122  2.62355182 -0.66775176 -0.74335496 -0.68849503]\n",
      " [-0.76193451 -0.00862661 -0.78373815 -1.01071144 -0.81837847 -0.9357599\n",
      "  -0.8292861   0.45461353 -0.78043793 -1.27124472 -0.81930132]\n",
      " [-0.56983308 -0.18353863 -0.59107513  0.01916334 -0.57820117  0.06102782\n",
      "  -0.57680898 -0.2387356  -0.6043658   0.31242455 -0.60059874]\n",
      " [-0.68075357 -0.81030671 -0.7279477  -0.48062883 -0.72094805  0.06102782\n",
      "  -0.71753393 -0.06095377 -0.71282623  1.36820406 -0.67742148]\n",
      " [ 0.52128692 -0.06693062  0.55523261  0.50381029  0.69632456  0.55942168\n",
      "   0.76145769 -0.38096106  0.50981865 -0.21546521  0.50329559]\n",
      " [ 0.08604457 -0.94149072 -0.01829319 -2.025441   -0.29270741 -0.9357599\n",
      "  -0.38917572  0.43683535  0.2309204  -1.27124472  0.06935092]] 12    0\n",
      "4     1\n",
      "34    1\n",
      "8     0\n",
      "3     0\n",
      "6     0\n",
      "40    1\n",
      "41    1\n",
      "46    1\n",
      "15    1\n",
      "9     1\n",
      "16    1\n",
      "24    1\n",
      "33    0\n",
      "30    0\n",
      "0     1\n",
      "43    0\n",
      "32    0\n",
      "5     0\n",
      "29    1\n",
      "11    0\n",
      "36    0\n",
      "1     1\n",
      "21    0\n",
      "2     1\n",
      "37    0\n",
      "35    0\n",
      "23    1\n",
      "39    0\n",
      "10    0\n",
      "22    1\n",
      "18    0\n",
      "48    0\n",
      "20    0\n",
      "7     0\n",
      "42    0\n",
      "14    1\n",
      "28    0\n",
      "38    1\n",
      "Name: target, dtype: int64 13    0\n",
      "45    0\n",
      "47    0\n",
      "44    0\n",
      "17    0\n",
      "27    0\n",
      "26    0\n",
      "25    0\n",
      "31    1\n",
      "19    0\n",
      "Name: target, dtype: int64\n"
     ]
    }
   ],
   "source": [
    "print(X_train, X_test, y_train, y_test)"
   ]
  },
  {
   "cell_type": "code",
   "execution_count": 12,
   "id": "67510460-887e-4c42-91ad-a1b95c82d714",
   "metadata": {},
   "outputs": [],
   "source": [
    "model = Sequential([\n",
    "    Dense(64, activation='relu', input_shape=(X_train.shape[1],)),\n",
    "    Dropout(0.3),\n",
    "    Dense(32, activation='relu'),\n",
    "    Dropout(0.3),\n",
    "    Dense(1, activation='sigmoid')\n",
    "])\n"
   ]
  },
  {
   "cell_type": "code",
   "execution_count": 13,
   "id": "c2e8a8c1-27f8-4749-8c16-27a65259510b",
   "metadata": {
    "scrolled": true
   },
   "outputs": [
    {
     "data": {
      "text/html": [
       "<pre style=\"white-space:pre;overflow-x:auto;line-height:normal;font-family:Menlo,'DejaVu Sans Mono',consolas,'Courier New',monospace\"><span style=\"font-weight: bold\">Model: \"sequential_2\"</span>\n",
       "</pre>\n"
      ],
      "text/plain": [
       "\u001b[1mModel: \"sequential_2\"\u001b[0m\n"
      ]
     },
     "metadata": {},
     "output_type": "display_data"
    },
    {
     "data": {
      "text/html": [
       "<pre style=\"white-space:pre;overflow-x:auto;line-height:normal;font-family:Menlo,'DejaVu Sans Mono',consolas,'Courier New',monospace\">┏━━━━━━━━━━━━━━━━━━━━━━━━━━━━━━━━━━━━━━┳━━━━━━━━━━━━━━━━━━━━━━━━━━━━━┳━━━━━━━━━━━━━━━━━┓\n",
       "┃<span style=\"font-weight: bold\"> Layer (type)                         </span>┃<span style=\"font-weight: bold\"> Output Shape                </span>┃<span style=\"font-weight: bold\">         Param # </span>┃\n",
       "┡━━━━━━━━━━━━━━━━━━━━━━━━━━━━━━━━━━━━━━╇━━━━━━━━━━━━━━━━━━━━━━━━━━━━━╇━━━━━━━━━━━━━━━━━┩\n",
       "│ dense_6 (<span style=\"color: #0087ff; text-decoration-color: #0087ff\">Dense</span>)                      │ (<span style=\"color: #00d7ff; text-decoration-color: #00d7ff\">None</span>, <span style=\"color: #00af00; text-decoration-color: #00af00\">64</span>)                  │             <span style=\"color: #00af00; text-decoration-color: #00af00\">768</span> │\n",
       "├──────────────────────────────────────┼─────────────────────────────┼─────────────────┤\n",
       "│ dropout_4 (<span style=\"color: #0087ff; text-decoration-color: #0087ff\">Dropout</span>)                  │ (<span style=\"color: #00d7ff; text-decoration-color: #00d7ff\">None</span>, <span style=\"color: #00af00; text-decoration-color: #00af00\">64</span>)                  │               <span style=\"color: #00af00; text-decoration-color: #00af00\">0</span> │\n",
       "├──────────────────────────────────────┼─────────────────────────────┼─────────────────┤\n",
       "│ dense_7 (<span style=\"color: #0087ff; text-decoration-color: #0087ff\">Dense</span>)                      │ (<span style=\"color: #00d7ff; text-decoration-color: #00d7ff\">None</span>, <span style=\"color: #00af00; text-decoration-color: #00af00\">32</span>)                  │           <span style=\"color: #00af00; text-decoration-color: #00af00\">2,080</span> │\n",
       "├──────────────────────────────────────┼─────────────────────────────┼─────────────────┤\n",
       "│ dropout_5 (<span style=\"color: #0087ff; text-decoration-color: #0087ff\">Dropout</span>)                  │ (<span style=\"color: #00d7ff; text-decoration-color: #00d7ff\">None</span>, <span style=\"color: #00af00; text-decoration-color: #00af00\">32</span>)                  │               <span style=\"color: #00af00; text-decoration-color: #00af00\">0</span> │\n",
       "├──────────────────────────────────────┼─────────────────────────────┼─────────────────┤\n",
       "│ dense_8 (<span style=\"color: #0087ff; text-decoration-color: #0087ff\">Dense</span>)                      │ (<span style=\"color: #00d7ff; text-decoration-color: #00d7ff\">None</span>, <span style=\"color: #00af00; text-decoration-color: #00af00\">1</span>)                   │              <span style=\"color: #00af00; text-decoration-color: #00af00\">33</span> │\n",
       "└──────────────────────────────────────┴─────────────────────────────┴─────────────────┘\n",
       "</pre>\n"
      ],
      "text/plain": [
       "┏━━━━━━━━━━━━━━━━━━━━━━━━━━━━━━━━━━━━━━┳━━━━━━━━━━━━━━━━━━━━━━━━━━━━━┳━━━━━━━━━━━━━━━━━┓\n",
       "┃\u001b[1m \u001b[0m\u001b[1mLayer (type)                        \u001b[0m\u001b[1m \u001b[0m┃\u001b[1m \u001b[0m\u001b[1mOutput Shape               \u001b[0m\u001b[1m \u001b[0m┃\u001b[1m \u001b[0m\u001b[1m        Param #\u001b[0m\u001b[1m \u001b[0m┃\n",
       "┡━━━━━━━━━━━━━━━━━━━━━━━━━━━━━━━━━━━━━━╇━━━━━━━━━━━━━━━━━━━━━━━━━━━━━╇━━━━━━━━━━━━━━━━━┩\n",
       "│ dense_6 (\u001b[38;5;33mDense\u001b[0m)                      │ (\u001b[38;5;45mNone\u001b[0m, \u001b[38;5;34m64\u001b[0m)                  │             \u001b[38;5;34m768\u001b[0m │\n",
       "├──────────────────────────────────────┼─────────────────────────────┼─────────────────┤\n",
       "│ dropout_4 (\u001b[38;5;33mDropout\u001b[0m)                  │ (\u001b[38;5;45mNone\u001b[0m, \u001b[38;5;34m64\u001b[0m)                  │               \u001b[38;5;34m0\u001b[0m │\n",
       "├──────────────────────────────────────┼─────────────────────────────┼─────────────────┤\n",
       "│ dense_7 (\u001b[38;5;33mDense\u001b[0m)                      │ (\u001b[38;5;45mNone\u001b[0m, \u001b[38;5;34m32\u001b[0m)                  │           \u001b[38;5;34m2,080\u001b[0m │\n",
       "├──────────────────────────────────────┼─────────────────────────────┼─────────────────┤\n",
       "│ dropout_5 (\u001b[38;5;33mDropout\u001b[0m)                  │ (\u001b[38;5;45mNone\u001b[0m, \u001b[38;5;34m32\u001b[0m)                  │               \u001b[38;5;34m0\u001b[0m │\n",
       "├──────────────────────────────────────┼─────────────────────────────┼─────────────────┤\n",
       "│ dense_8 (\u001b[38;5;33mDense\u001b[0m)                      │ (\u001b[38;5;45mNone\u001b[0m, \u001b[38;5;34m1\u001b[0m)                   │              \u001b[38;5;34m33\u001b[0m │\n",
       "└──────────────────────────────────────┴─────────────────────────────┴─────────────────┘\n"
      ]
     },
     "metadata": {},
     "output_type": "display_data"
    },
    {
     "data": {
      "text/html": [
       "<pre style=\"white-space:pre;overflow-x:auto;line-height:normal;font-family:Menlo,'DejaVu Sans Mono',consolas,'Courier New',monospace\"><span style=\"font-weight: bold\"> Total params: </span><span style=\"color: #00af00; text-decoration-color: #00af00\">2,881</span> (11.25 KB)\n",
       "</pre>\n"
      ],
      "text/plain": [
       "\u001b[1m Total params: \u001b[0m\u001b[38;5;34m2,881\u001b[0m (11.25 KB)\n"
      ]
     },
     "metadata": {},
     "output_type": "display_data"
    },
    {
     "data": {
      "text/html": [
       "<pre style=\"white-space:pre;overflow-x:auto;line-height:normal;font-family:Menlo,'DejaVu Sans Mono',consolas,'Courier New',monospace\"><span style=\"font-weight: bold\"> Trainable params: </span><span style=\"color: #00af00; text-decoration-color: #00af00\">2,881</span> (11.25 KB)\n",
       "</pre>\n"
      ],
      "text/plain": [
       "\u001b[1m Trainable params: \u001b[0m\u001b[38;5;34m2,881\u001b[0m (11.25 KB)\n"
      ]
     },
     "metadata": {},
     "output_type": "display_data"
    },
    {
     "data": {
      "text/html": [
       "<pre style=\"white-space:pre;overflow-x:auto;line-height:normal;font-family:Menlo,'DejaVu Sans Mono',consolas,'Courier New',monospace\"><span style=\"font-weight: bold\"> Non-trainable params: </span><span style=\"color: #00af00; text-decoration-color: #00af00\">0</span> (0.00 B)\n",
       "</pre>\n"
      ],
      "text/plain": [
       "\u001b[1m Non-trainable params: \u001b[0m\u001b[38;5;34m0\u001b[0m (0.00 B)\n"
      ]
     },
     "metadata": {},
     "output_type": "display_data"
    },
    {
     "name": "stdout",
     "output_type": "stream",
     "text": [
      "Epoch 1/20\n",
      "\u001b[1m2/2\u001b[0m \u001b[32m━━━━━━━━━━━━━━━━━━━━\u001b[0m\u001b[37m\u001b[0m \u001b[1m1s\u001b[0m 270ms/step - accuracy: 0.6119 - loss: 0.6944 - val_accuracy: 0.8000 - val_loss: 0.6200\n",
      "Epoch 2/20\n",
      "\u001b[1m2/2\u001b[0m \u001b[32m━━━━━━━━━━━━━━━━━━━━\u001b[0m\u001b[37m\u001b[0m \u001b[1m0s\u001b[0m 93ms/step - accuracy: 0.6461 - loss: 0.6318 - val_accuracy: 0.8000 - val_loss: 0.6147\n",
      "Epoch 3/20\n",
      "\u001b[1m2/2\u001b[0m \u001b[32m━━━━━━━━━━━━━━━━━━━━\u001b[0m\u001b[37m\u001b[0m \u001b[1m0s\u001b[0m 90ms/step - accuracy: 0.6082 - loss: 0.6776 - val_accuracy: 0.8000 - val_loss: 0.6092\n",
      "Epoch 4/20\n",
      "\u001b[1m2/2\u001b[0m \u001b[32m━━━━━━━━━━━━━━━━━━━━\u001b[0m\u001b[37m\u001b[0m \u001b[1m0s\u001b[0m 93ms/step - accuracy: 0.6357 - loss: 0.6320 - val_accuracy: 0.8000 - val_loss: 0.6046\n",
      "Epoch 5/20\n",
      "\u001b[1m2/2\u001b[0m \u001b[32m━━━━━━━━━━━━━━━━━━━━\u001b[0m\u001b[37m\u001b[0m \u001b[1m0s\u001b[0m 89ms/step - accuracy: 0.7628 - loss: 0.5552 - val_accuracy: 0.8000 - val_loss: 0.5992\n",
      "Epoch 6/20\n",
      "\u001b[1m2/2\u001b[0m \u001b[32m━━━━━━━━━━━━━━━━━━━━\u001b[0m\u001b[37m\u001b[0m \u001b[1m0s\u001b[0m 88ms/step - accuracy: 0.8112 - loss: 0.5712 - val_accuracy: 0.9000 - val_loss: 0.5939\n",
      "Epoch 7/20\n",
      "\u001b[1m2/2\u001b[0m \u001b[32m━━━━━━━━━━━━━━━━━━━━\u001b[0m\u001b[37m\u001b[0m \u001b[1m0s\u001b[0m 86ms/step - accuracy: 0.8178 - loss: 0.5499 - val_accuracy: 0.9000 - val_loss: 0.5892\n",
      "Epoch 8/20\n",
      "\u001b[1m2/2\u001b[0m \u001b[32m━━━━━━━━━━━━━━━━━━━━\u001b[0m\u001b[37m\u001b[0m \u001b[1m0s\u001b[0m 85ms/step - accuracy: 0.7011 - loss: 0.5627 - val_accuracy: 0.9000 - val_loss: 0.5848\n",
      "Epoch 9/20\n",
      "\u001b[1m2/2\u001b[0m \u001b[32m━━━━━━━━━━━━━━━━━━━━\u001b[0m\u001b[37m\u001b[0m \u001b[1m0s\u001b[0m 93ms/step - accuracy: 0.8454 - loss: 0.5356 - val_accuracy: 0.9000 - val_loss: 0.5799\n",
      "Epoch 10/20\n",
      "\u001b[1m2/2\u001b[0m \u001b[32m━━━━━━━━━━━━━━━━━━━━\u001b[0m\u001b[37m\u001b[0m \u001b[1m0s\u001b[0m 91ms/step - accuracy: 0.8178 - loss: 0.4866 - val_accuracy: 0.9000 - val_loss: 0.5742\n",
      "Epoch 11/20\n",
      "\u001b[1m2/2\u001b[0m \u001b[32m━━━━━━━━━━━━━━━━━━━━\u001b[0m\u001b[37m\u001b[0m \u001b[1m0s\u001b[0m 79ms/step - accuracy: 0.8007 - loss: 0.5334 - val_accuracy: 0.9000 - val_loss: 0.5689\n",
      "Epoch 12/20\n",
      "\u001b[1m2/2\u001b[0m \u001b[32m━━━━━━━━━━━━━━━━━━━━\u001b[0m\u001b[37m\u001b[0m \u001b[1m0s\u001b[0m 81ms/step - accuracy: 0.7732 - loss: 0.5514 - val_accuracy: 0.9000 - val_loss: 0.5633\n",
      "Epoch 13/20\n",
      "\u001b[1m2/2\u001b[0m \u001b[32m━━━━━━━━━━━━━━━━━━━━\u001b[0m\u001b[37m\u001b[0m \u001b[1m0s\u001b[0m 81ms/step - accuracy: 0.8454 - loss: 0.4971 - val_accuracy: 0.9000 - val_loss: 0.5561\n",
      "Epoch 14/20\n",
      "\u001b[1m2/2\u001b[0m \u001b[32m━━━━━━━━━━━━━━━━━━━━\u001b[0m\u001b[37m\u001b[0m \u001b[1m0s\u001b[0m 80ms/step - accuracy: 0.8349 - loss: 0.4931 - val_accuracy: 0.9000 - val_loss: 0.5496\n",
      "Epoch 15/20\n",
      "\u001b[1m2/2\u001b[0m \u001b[32m━━━━━━━━━━━━━━━━━━━━\u001b[0m\u001b[37m\u001b[0m \u001b[1m0s\u001b[0m 79ms/step - accuracy: 0.8729 - loss: 0.5408 - val_accuracy: 0.9000 - val_loss: 0.5434\n",
      "Epoch 16/20\n",
      "\u001b[1m2/2\u001b[0m \u001b[32m━━━━━━━━━━━━━━━━━━━━\u001b[0m\u001b[37m\u001b[0m \u001b[1m0s\u001b[0m 80ms/step - accuracy: 0.7903 - loss: 0.5192 - val_accuracy: 0.9000 - val_loss: 0.5360\n",
      "Epoch 17/20\n",
      "\u001b[1m2/2\u001b[0m \u001b[32m━━━━━━━━━━━━━━━━━━━━\u001b[0m\u001b[37m\u001b[0m \u001b[1m0s\u001b[0m 88ms/step - accuracy: 0.7628 - loss: 0.4911 - val_accuracy: 0.9000 - val_loss: 0.5284\n",
      "Epoch 18/20\n",
      "\u001b[1m2/2\u001b[0m \u001b[32m━━━━━━━━━━━━━━━━━━━━\u001b[0m\u001b[37m\u001b[0m \u001b[1m0s\u001b[0m 89ms/step - accuracy: 0.8558 - loss: 0.4644 - val_accuracy: 0.9000 - val_loss: 0.5209\n",
      "Epoch 19/20\n",
      "\u001b[1m2/2\u001b[0m \u001b[32m━━━━━━━━━━━━━━━━━━━━\u001b[0m\u001b[37m\u001b[0m \u001b[1m0s\u001b[0m 86ms/step - accuracy: 0.8074 - loss: 0.4564 - val_accuracy: 0.9000 - val_loss: 0.5125\n",
      "Epoch 20/20\n",
      "\u001b[1m2/2\u001b[0m \u001b[32m━━━━━━━━━━━━━━━━━━━━\u001b[0m\u001b[37m\u001b[0m \u001b[1m0s\u001b[0m 84ms/step - accuracy: 0.9279 - loss: 0.4179 - val_accuracy: 0.9000 - val_loss: 0.5038\n"
     ]
    }
   ],
   "source": [
    "model.compile(optimizer='adam', loss='binary_crossentropy', metrics=['accuracy'])\n",
    "model.summary()\n",
    "history = model.fit(X_train, y_train, epochs=20, validation_data=(X_test, y_test))\n"
   ]
  },
  {
   "cell_type": "code",
   "execution_count": 14,
   "id": "7403637a-96a6-422f-8271-67b0687dd693",
   "metadata": {},
   "outputs": [
    {
     "data": {
      "image/png": "[encoded data removed]",
      "text/plain": [
       "<Figure size 640x480 with 1 Axes>"
      ]
     },
     "metadata": {},
     "output_type": "display_data"
    }
   ],
   "source": [
    "plt.plot(history.history['accuracy'], label='Train Accuracy')\n",
    "plt.plot(history.history['val_accuracy'], label='Validation Accuracy')\n",
    "plt.legend()\n",
    "plt.title(\"Model Accuracy\")\n",
    "plt.show()"
   ]
  },
  {
   "cell_type": "code",
   "execution_count": 15,
   "id": "a2030c81-4f94-49d9-b789-1ecc73fe562c",
   "metadata": {},
   "outputs": [
    {
     "name": "stdout",
     "output_type": "stream",
     "text": [
      "\u001b[1m1/1\u001b[0m \u001b[32m━━━━━━━━━━━━━━━━━━━━\u001b[0m\u001b[37m\u001b[0m \u001b[1m0s\u001b[0m 138ms/step\n",
      "              precision    recall  f1-score   support\n",
      "\n",
      "           0       0.90      1.00      0.95         9\n",
      "           1       0.00      0.00      0.00         1\n",
      "\n",
      "    accuracy                           0.90        10\n",
      "   macro avg       0.45      0.50      0.47        10\n",
      "weighted avg       0.81      0.90      0.85        10\n",
      "\n",
      "[[9 0]\n",
      " [1 0]]\n"
     ]
    },
    {
     "name": "stderr",
     "output_type": "stream",
     "text": [
      "D:\\folder desktop\\New folder (5)\\env\\lib\\site-packages\\sklearn\\metrics\\_classification.py:1565: UndefinedMetricWarning: Precision is ill-defined and being set to 0.0 in labels with no predicted samples. Use `zero_division` parameter to control this behavior.\n",
      "  _warn_prf(average, modifier, f\"{metric.capitalize()} is\", len(result))\n",
      "D:\\folder desktop\\New folder (5)\\env\\lib\\site-packages\\sklearn\\metrics\\_classification.py:1565: UndefinedMetricWarning: Precision is ill-defined and being set to 0.0 in labels with no predicted samples. Use `zero_division` parameter to control this behavior.\n",
      "  _warn_prf(average, modifier, f\"{metric.capitalize()} is\", len(result))\n",
      "D:\\folder desktop\\New folder (5)\\env\\lib\\site-packages\\sklearn\\metrics\\_classification.py:1565: UndefinedMetricWarning: Precision is ill-defined and being set to 0.0 in labels with no predicted samples. Use `zero_division` parameter to control this behavior.\n",
      "  _warn_prf(average, modifier, f\"{metric.capitalize()} is\", len(result))\n"
     ]
    }
   ],
   "source": [
    "y_pred = (model.predict(X_test) > 0.5).astype(int)\n",
    "print(classification_report(y_test, y_pred))\n",
    "print(confusion_matrix(y_test, y_pred))\n"
   ]
  },
  {
   "cell_type": "code",
   "execution_count": null,
   "id": "b1975d59-e2bb-491f-94d9-55a5cd061099",
   "metadata": {},
   "outputs": [],
   "source": []
  }
 ],
 "metadata": {
  "kernelspec": {
   "display_name": "Python 3 (ipykernel)",
   "language": "python",
   "name": "python3"
  },
  "language_info": {
   "codemirror_mode": {
    "name": "ipython",
    "version": 3
   },
   "file_extension": ".py",
   "mimetype": "text/x-python",
   "name": "python",
   "nbconvert_exporter": "python",
   "pygments_lexer": "ipython3",
   "version": "3.10.11"
  }
 },
 "nbformat": 4,
 "nbformat_minor": 5
}
