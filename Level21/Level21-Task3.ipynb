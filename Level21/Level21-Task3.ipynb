{
 "cells": [
  {
   "cell_type": "code",
   "execution_count": 1,
   "id": "88b6be94-9994-46c6-bc93-3bb3ef7eea54",
   "metadata": {},
   "outputs": [],
   "source": [
    "import pandas as pd\n",
    "import numpy as np\n",
    "from sklearn.datasets import fetch_california_housing\n",
    "from sklearn.model_selection import train_test_split\n",
    "from sklearn.preprocessing import StandardScaler\n",
    "from sklearn.metrics import mean_squared_error\n",
    "import tensorflow as tf\n",
    "from tensorflow.keras.models import Sequential\n",
    "from tensorflow.keras.layers import Dense"
   ]
  },
  {
   "cell_type": "code",
   "execution_count": 3,
   "id": "dbdbd514-ff69-4193-aa5b-fd4ac3b5057f",
   "metadata": {},
   "outputs": [],
   "source": [
    "data = fetch_california_housing()\n",
    "X = data.data\n",
    "y = data.target"
   ]
  },
  {
   "cell_type": "code",
   "execution_count": 5,
   "id": "5af1e51f-8184-4777-bb0a-f80e511dff50",
   "metadata": {},
   "outputs": [],
   "source": [
    "scaler = StandardScaler()\n",
    "X_scaled = scaler.fit_transform(X)"
   ]
  },
  {
   "cell_type": "code",
   "execution_count": 7,
   "id": "20e14437-f1f4-4c12-a53a-4807226fbcb9",
   "metadata": {},
   "outputs": [],
   "source": [
    "X_train, X_test, y_train, y_test = train_test_split(X_scaled, y, test_size=0.2, random_state=42)"
   ]
  },
  {
   "cell_type": "code",
   "execution_count": 9,
   "id": "b87b639c-b6a1-4161-b7e5-201a8b999d50",
   "metadata": {},
   "outputs": [],
   "source": [
    "def custom_weighted_mse(y_true, y_pred):\n",
    "    weights = tf.abs(y_true)  # Higher weight for larger targets\n",
    "    return tf.reduce_mean(tf.square(y_true - y_pred) * weights)"
   ]
  },
  {
   "cell_type": "code",
   "execution_count": 11,
   "id": "e3235af1-6b29-42a7-bd44-1a3aeb5d63d6",
   "metadata": {},
   "outputs": [
    {
     "name": "stderr",
     "output_type": "stream",
     "text": [
      "C:\\Users\\indum\\anaconda3\\Lib\\site-packages\\keras\\src\\layers\\core\\dense.py:87: UserWarning: Do not pass an `input_shape`/`input_dim` argument to a layer. When using Sequential models, prefer using an `Input(shape)` object as the first layer in the model instead.\n",
      "  super().__init__(activity_regularizer=activity_regularizer, **kwargs)\n"
     ]
    }
   ],
   "source": [
    "model = Sequential([\n",
    "    Dense(16, activation='relu', input_shape=(X_train.shape[1],)),\n",
    "    Dense(1)\n",
    "])\n",
    "\n",
    "model.compile(optimizer='adam', loss=custom_weighted_mse)\n",
    "history = model.fit(X_train, y_train, epochs=10, verbose=0)\n"
   ]
  },
  {
   "cell_type": "code",
   "execution_count": 13,
   "id": "073076d6-a461-4a46-9fc5-c914e173a652",
   "metadata": {},
   "outputs": [
    {
     "name": "stdout",
     "output_type": "stream",
     "text": [
      "\u001b[1m129/129\u001b[0m \u001b[32m━━━━━━━━━━━━━━━━━━━━\u001b[0m\u001b[37m\u001b[0m \u001b[1m0s\u001b[0m 1ms/step\n"
     ]
    }
   ],
   "source": [
    "y_pred = model.predict(X_test).flatten()\n",
    "test_weights = np.abs(y_test)\n",
    "custom_loss_value = np.mean((y_test - y_pred)**2 * test_weights)\n",
    "standard_mse = mean_squared_error(y_test, y_pred)"
   ]
  },
  {
   "cell_type": "code",
   "execution_count": 15,
   "id": "6f62a6c1-a393-4f66-a0ca-3cb92f6df6ed",
   "metadata": {},
   "outputs": [
    {
     "name": "stdout",
     "output_type": "stream",
     "text": [
      "             Loss Type  Loss Value\n",
      "0  Custom Weighted MSE    1.111411\n",
      "1         Standard MSE    0.444499\n"
     ]
    }
   ],
   "source": [
    "comparison = pd.DataFrame({\n",
    "    'Loss Type': ['Custom Weighted MSE', 'Standard MSE'],\n",
    "    'Loss Value': [custom_loss_value, standard_mse]\n",
    "})\n",
    "\n",
    "print(comparison)\n"
   ]
  },
  {
   "cell_type": "code",
   "execution_count": 17,
   "id": "4243d398-9a49-40d2-ba72-e91c9e83cda3",
   "metadata": {},
   "outputs": [
    {
     "name": "stdout",
     "output_type": "stream",
     "text": [
      "\n",
      "📝 Note:\n",
      "The custom loss penalizes errors more when the actual target value is larger.\n",
      "This can be useful in applications where higher target values are more critical to predict accurately.\n"
     ]
    }
   ],
   "source": [
    "print(\"\\n📝 Note:\")\n",
    "print(\"The custom loss penalizes errors more when the actual target value is larger.\")\n",
    "print(\"This can be useful in applications where higher target values are more critical to predict accurately.\")"
   ]
  },
  {
   "cell_type": "code",
   "execution_count": null,
   "id": "3663a555-b36f-46cc-ab3e-3d3ccbd449b8",
   "metadata": {},
   "outputs": [],
   "source": []
  }
 ],
 "metadata": {
  "kernelspec": {
   "display_name": "Python [conda env:base] *",
   "language": "python",
   "name": "conda-base-py"
  },
  "language_info": {
   "codemirror_mode": {
    "name": "ipython",
    "version": 3
   },
   "file_extension": ".py",
   "mimetype": "text/x-python",
   "name": "python",
   "nbconvert_exporter": "python",
   "pygments_lexer": "ipython3",
   "version": "3.12.7"
  }
 },
 "nbformat": 4,
 "nbformat_minor": 5
}
