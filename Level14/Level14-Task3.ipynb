{
 "cells": [
  {
   "cell_type": "code",
   "execution_count": null,
   "id": "58b8978d-54e5-4546-ad7a-412ac4f493eb",
   "metadata": {},
   "outputs": [],
   "source": [
    "import pandas as pd\n",
    "from sklearn.preprocessing import StandardScaler\n",
    "from sklearn.model_selection import train_test_split\n",
    "from sklearn.svm import SVR\n",
    "from sklearn.metrics import mean_squared_error\n",
    "import matplotlib.pyplot as plt\n",
    "df=pd.read_csv(\"D:/fetch_california_housing.csv\")\n",
    "\n",
    "df.dropna(inplace=True)\n",
    "X = df.drop('MedHouseVal', axis=1)\n",
    "y = df['MedHouseVal']\n",
    "scaler = StandardScaler()\n",
    "X_scaled = scaler.fit_transform(X)\n",
    "\n",
    "X_train,X_test,y_train,y_test=train_test_split(X,y,test_size=0.2,random_state=0)\n",
    "\n",
    "model=SVR(kernel='rbf')\n",
    "model.fit(X_scaled,y)\n",
    "\n",
    "y_pred=model.predict(X_scaled)\n",
    "mse=mean_squared_error(y,y_pred)\n",
    "print(\"Mean squared error:\",mse)\n",
    "\n",
    "plt.scatter(y,y_pred)\n",
    "plt.title(\"predicted vs actual values (SVR)\")\n",
    "plt.xlabel(\"Actual Values\")\n",
    "plt.ylabel(\"Predicted values\")\n",
    "plt.show()"
   ]
  },
  {
   "cell_type": "code",
   "execution_count": null,
   "id": "e92c1cd8-8116-4d85-8d8b-e965f8b43f7c",
   "metadata": {},
   "outputs": [],
   "source": [
    "print("
   ]
  },
  {
   "cell_type": "code",
   "execution_count": null,
   "id": "9375cfef-438f-450d-8702-94ed5886a9c2",
   "metadata": {},
   "outputs": [],
   "source": []
  }
 ],
 "metadata": {
  "kernelspec": {
   "display_name": "Python [conda env:base] *",
   "language": "python",
   "name": "conda-base-py"
  },
  "language_info": {
   "codemirror_mode": {
    "name": "ipython",
    "version": 3
   },
   "file_extension": ".py",
   "mimetype": "text/x-python",
   "name": "python",
   "nbconvert_exporter": "python",
   "pygments_lexer": "ipython3",
   "version": "3.12.7"
  }
 },
 "nbformat": 4,
 "nbformat_minor": 5
}
