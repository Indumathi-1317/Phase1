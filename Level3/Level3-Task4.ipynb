{
 "cells": [
  {
   "cell_type": "code",
   "execution_count": 1,
   "id": "01856aef-a7ff-4716-b50c-4fe9a3c24f99",
   "metadata": {},
   "outputs": [
    {
     "name": "stdout",
     "output_type": "stream",
     "text": [
      "1.0009071826934814 seconds\n"
     ]
    }
   ],
   "source": [
    "import time\n",
    "\n",
    "def timer_decorator(func):\n",
    "    def wrapper():\n",
    "        start_time = time.time() \n",
    "        func()\n",
    "        elapsed_time = time.time() - start_time  \n",
    "        print(f\"{elapsed_time} seconds\")\n",
    "    return wrapper\n",
    "@timer_decorator\n",
    "def sample_function():\n",
    "    time.sleep(1)\n",
    "\n",
    "sample_function()\n"
   ]
  },
  {
   "cell_type": "code",
   "execution_count": null,
   "id": "6792dfbf-d52f-4cbd-913d-87c7e6a92593",
   "metadata": {},
   "outputs": [],
   "source": []
  }
 ],
 "metadata": {
  "kernelspec": {
   "display_name": "Python [conda env:base] *",
   "language": "python",
   "name": "conda-base-py"
  },
  "language_info": {
   "codemirror_mode": {
    "name": "ipython",
    "version": 3
   },
   "file_extension": ".py",
   "mimetype": "text/x-python",
   "name": "python",
   "nbconvert_exporter": "python",
   "pygments_lexer": "ipython3",
   "version": "3.12.7"
  }
 },
 "nbformat": 4,
 "nbformat_minor": 5
}
